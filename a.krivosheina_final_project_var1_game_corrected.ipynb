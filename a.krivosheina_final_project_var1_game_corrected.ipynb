{
 "cells": [
  {
   "cell_type": "code",
   "execution_count": 1,
   "metadata": {},
   "outputs": [],
   "source": [
    "import numpy as np\n",
    "import pandas as pd\n",
    "import seaborn as sns\n",
    "import matplotlib.pyplot as plt\n",
    "import requests \n",
    "from urllib.parse import urlencode \n",
    "import datetime\n",
    "%matplotlib inline \n",
    "from urllib.parse import urlencode \n",
    "from scipy import stats\n",
    "from scipy.stats import bootstrap\n",
    "import matplotlib.pyplot as plt"
   ]
  },
  {
   "cell_type": "code",
   "execution_count": 2,
   "metadata": {},
   "outputs": [],
   "source": [
    "# Задание 1\n",
    "# Retention – один из самых важных показателей в компании.\n",
    "# Ваша задача – написать функцию, которая будет считать retention игроков (по дням от даты регистрации игрока). "
   ]
  },
  {
   "cell_type": "code",
   "execution_count": 3,
   "metadata": {},
   "outputs": [],
   "source": [
    "problem1_reg_data = pd.read_csv('/mnt/HC_Volume_18315164/home-jupyter/jupyter-a-krivosheina/shared/problem1-reg_data.csv', sep = ';')\n",
    "problem1_auth_data = pd.read_csv('/mnt/HC_Volume_18315164/home-jupyter/jupyter-a-krivosheina/shared/problem1-auth_data.csv', sep = ';')"
   ]
  },
  {
   "cell_type": "code",
   "execution_count": 4,
   "metadata": {},
   "outputs": [
    {
     "data": {
      "text/plain": [
       "reg_ts    0\n",
       "uid       0\n",
       "dtype: int64"
      ]
     },
     "execution_count": 4,
     "metadata": {},
     "output_type": "execute_result"
    }
   ],
   "source": [
    "problem1_reg_data.isna().sum()"
   ]
  },
  {
   "cell_type": "code",
   "execution_count": 5,
   "metadata": {},
   "outputs": [
    {
     "data": {
      "text/plain": [
       "reg_ts    0\n",
       "uid       0\n",
       "dtype: int64"
      ]
     },
     "execution_count": 5,
     "metadata": {},
     "output_type": "execute_result"
    }
   ],
   "source": [
    "problem1_reg_data.isna().sum()"
   ]
  },
  {
   "cell_type": "code",
   "execution_count": 6,
   "metadata": {},
   "outputs": [],
   "source": [
    "# Пропущенных значений нет"
   ]
  },
  {
   "cell_type": "code",
   "execution_count": 7,
   "metadata": {},
   "outputs": [
    {
     "data": {
      "text/plain": [
       "reg_ts    int64\n",
       "uid       int64\n",
       "dtype: object"
      ]
     },
     "execution_count": 7,
     "metadata": {},
     "output_type": "execute_result"
    }
   ],
   "source": [
    "problem1_reg_data.dtypes"
   ]
  },
  {
   "cell_type": "code",
   "execution_count": 8,
   "metadata": {},
   "outputs": [
    {
     "data": {
      "text/plain": [
       "auth_ts    int64\n",
       "uid        int64\n",
       "dtype: object"
      ]
     },
     "execution_count": 8,
     "metadata": {},
     "output_type": "execute_result"
    }
   ],
   "source": [
    "problem1_auth_data.dtypes"
   ]
  },
  {
   "cell_type": "code",
   "execution_count": 9,
   "metadata": {},
   "outputs": [],
   "source": [
    "# Преобразуем даты в формат дат, оставим их на всякий случай, создадим столбцы с датой без времени"
   ]
  },
  {
   "cell_type": "code",
   "execution_count": 10,
   "metadata": {},
   "outputs": [],
   "source": [
    "problem1_reg_data['reg_ts']= pd.to_datetime(problem1_reg_data.reg_ts, unit= 's')\n",
    "problem1_auth_data['auth_ts']= pd.to_datetime(problem1_auth_data.auth_ts, unit= 's')"
   ]
  },
  {
   "cell_type": "code",
   "execution_count": 11,
   "metadata": {},
   "outputs": [],
   "source": [
    "problem1_reg_data['reg_day']= problem1_reg_data.reg_ts.dt.date\n",
    "problem1_auth_data['auth_day']= problem1_auth_data.auth_ts.dt.date"
   ]
  },
  {
   "cell_type": "code",
   "execution_count": 12,
   "metadata": {},
   "outputs": [],
   "source": [
    "# Все UID уникальны"
   ]
  },
  {
   "cell_type": "code",
   "execution_count": 13,
   "metadata": {},
   "outputs": [
    {
     "data": {
      "text/plain": [
       "True"
      ]
     },
     "execution_count": 13,
     "metadata": {},
     "output_type": "execute_result"
    }
   ],
   "source": [
    "problem1_reg_data.uid.nunique()==problem1_reg_data.uid.count()"
   ]
  },
  {
   "cell_type": "code",
   "execution_count": 14,
   "metadata": {},
   "outputs": [],
   "source": [
    "# Так как у одного пользователя может быть несколько авторизаций,\n",
    "# необходимо проверить встречается ли пара uid - дата авторизации несколько раз"
   ]
  },
  {
   "cell_type": "code",
   "execution_count": 15,
   "metadata": {},
   "outputs": [],
   "source": [
    "problem1_auth_data ['uid_auth_day'] = problem1_auth_data['uid'].astype(str) + '_' + problem1_auth_data['auth_day'].astype(str)"
   ]
  },
  {
   "cell_type": "code",
   "execution_count": 16,
   "metadata": {},
   "outputs": [
    {
     "data": {
      "text/plain": [
       "True"
      ]
     },
     "execution_count": 16,
     "metadata": {},
     "output_type": "execute_result"
    }
   ],
   "source": [
    "problem1_auth_data.uid_auth_day.nunique()==problem1_auth_data.uid_auth_day.count()"
   ]
  },
  {
   "cell_type": "code",
   "execution_count": 17,
   "metadata": {},
   "outputs": [],
   "source": [
    "# пара uid - дата авторизации уникальны, поэтому чистить данные не нужно"
   ]
  },
  {
   "cell_type": "code",
   "execution_count": 18,
   "metadata": {},
   "outputs": [],
   "source": [
    "# и объединим два ДФ и оставим только столбцы с датами без времени, потому что для подсчета retention время не нужно"
   ]
  },
  {
   "cell_type": "code",
   "execution_count": 17,
   "metadata": {},
   "outputs": [],
   "source": [
    "data_ex_1 = problem1_auth_data.merge(problem1_reg_data, how = \"left\", on = 'uid' )"
   ]
  },
  {
   "cell_type": "code",
   "execution_count": 18,
   "metadata": {},
   "outputs": [],
   "source": [
    "data_ex_1 = data_ex_1[['uid', 'reg_day', 'auth_day']]"
   ]
  },
  {
   "cell_type": "code",
   "execution_count": 19,
   "metadata": {},
   "outputs": [],
   "source": [
    "# создадим столбец с n днем"
   ]
  },
  {
   "cell_type": "code",
   "execution_count": 20,
   "metadata": {},
   "outputs": [],
   "source": [
    "data_ex_1['n_day'] = (data_ex_1['auth_day'] - data_ex_1['reg_day']).dt.days"
   ]
  },
  {
   "cell_type": "code",
   "execution_count": 21,
   "metadata": {},
   "outputs": [
    {
     "data": {
      "text/html": [
       "<div>\n",
       "<style scoped>\n",
       "    .dataframe tbody tr th:only-of-type {\n",
       "        vertical-align: middle;\n",
       "    }\n",
       "\n",
       "    .dataframe tbody tr th {\n",
       "        vertical-align: top;\n",
       "    }\n",
       "\n",
       "    .dataframe thead th {\n",
       "        text-align: right;\n",
       "    }\n",
       "</style>\n",
       "<table border=\"1\" class=\"dataframe\">\n",
       "  <thead>\n",
       "    <tr style=\"text-align: right;\">\n",
       "      <th></th>\n",
       "      <th>uid</th>\n",
       "      <th>reg_day</th>\n",
       "      <th>auth_day</th>\n",
       "      <th>n_day</th>\n",
       "    </tr>\n",
       "  </thead>\n",
       "  <tbody>\n",
       "    <tr>\n",
       "      <th>0</th>\n",
       "      <td>1</td>\n",
       "      <td>1998-11-18</td>\n",
       "      <td>1998-11-18</td>\n",
       "      <td>0</td>\n",
       "    </tr>\n",
       "    <tr>\n",
       "      <th>1</th>\n",
       "      <td>2</td>\n",
       "      <td>1999-07-22</td>\n",
       "      <td>1999-07-22</td>\n",
       "      <td>0</td>\n",
       "    </tr>\n",
       "    <tr>\n",
       "      <th>2</th>\n",
       "      <td>2</td>\n",
       "      <td>1999-07-22</td>\n",
       "      <td>1999-07-25</td>\n",
       "      <td>3</td>\n",
       "    </tr>\n",
       "    <tr>\n",
       "      <th>3</th>\n",
       "      <td>2</td>\n",
       "      <td>1999-07-22</td>\n",
       "      <td>1999-07-31</td>\n",
       "      <td>9</td>\n",
       "    </tr>\n",
       "    <tr>\n",
       "      <th>4</th>\n",
       "      <td>2</td>\n",
       "      <td>1999-07-22</td>\n",
       "      <td>1999-08-05</td>\n",
       "      <td>14</td>\n",
       "    </tr>\n",
       "    <tr>\n",
       "      <th>...</th>\n",
       "      <td>...</td>\n",
       "      <td>...</td>\n",
       "      <td>...</td>\n",
       "      <td>...</td>\n",
       "    </tr>\n",
       "    <tr>\n",
       "      <th>9601008</th>\n",
       "      <td>1110618</td>\n",
       "      <td>2020-09-23</td>\n",
       "      <td>2020-09-23</td>\n",
       "      <td>0</td>\n",
       "    </tr>\n",
       "    <tr>\n",
       "      <th>9601009</th>\n",
       "      <td>1110619</td>\n",
       "      <td>2020-09-23</td>\n",
       "      <td>2020-09-23</td>\n",
       "      <td>0</td>\n",
       "    </tr>\n",
       "    <tr>\n",
       "      <th>9601010</th>\n",
       "      <td>1110620</td>\n",
       "      <td>2020-09-23</td>\n",
       "      <td>2020-09-23</td>\n",
       "      <td>0</td>\n",
       "    </tr>\n",
       "    <tr>\n",
       "      <th>9601011</th>\n",
       "      <td>1110621</td>\n",
       "      <td>2020-09-23</td>\n",
       "      <td>2020-09-23</td>\n",
       "      <td>0</td>\n",
       "    </tr>\n",
       "    <tr>\n",
       "      <th>9601012</th>\n",
       "      <td>1110622</td>\n",
       "      <td>2020-09-23</td>\n",
       "      <td>2020-09-23</td>\n",
       "      <td>0</td>\n",
       "    </tr>\n",
       "  </tbody>\n",
       "</table>\n",
       "<p>9601013 rows × 4 columns</p>\n",
       "</div>"
      ],
      "text/plain": [
       "             uid     reg_day    auth_day  n_day\n",
       "0              1  1998-11-18  1998-11-18      0\n",
       "1              2  1999-07-22  1999-07-22      0\n",
       "2              2  1999-07-22  1999-07-25      3\n",
       "3              2  1999-07-22  1999-07-31      9\n",
       "4              2  1999-07-22  1999-08-05     14\n",
       "...          ...         ...         ...    ...\n",
       "9601008  1110618  2020-09-23  2020-09-23      0\n",
       "9601009  1110619  2020-09-23  2020-09-23      0\n",
       "9601010  1110620  2020-09-23  2020-09-23      0\n",
       "9601011  1110621  2020-09-23  2020-09-23      0\n",
       "9601012  1110622  2020-09-23  2020-09-23      0\n",
       "\n",
       "[9601013 rows x 4 columns]"
      ]
     },
     "execution_count": 21,
     "metadata": {},
     "output_type": "execute_result"
    }
   ],
   "source": [
    "data_ex_1"
   ]
  },
  {
   "cell_type": "code",
   "execution_count": 22,
   "metadata": {},
   "outputs": [
    {
     "data": {
      "text/plain": [
       "<seaborn.axisgrid.FacetGrid at 0x7f527e4dad68>"
      ]
     },
     "execution_count": 22,
     "metadata": {},
     "output_type": "execute_result"
    },
    {
     "data": {
      "image/png": "[encoded data removed]",
      "text/plain": [
       "<Figure size 360x360 with 1 Axes>"
      ]
     },
     "metadata": {
      "needs_background": "light"
     },
     "output_type": "display_data"
    }
   ],
   "source": [
    "sns.displot(data=data_ex_1.reg_day)"
   ]
  },
  {
   "cell_type": "code",
   "execution_count": 23,
   "metadata": {},
   "outputs": [],
   "source": [
    "# основная часть пользователей зарегистрировалась после 2016 года"
   ]
  },
  {
   "cell_type": "code",
   "execution_count": 24,
   "metadata": {},
   "outputs": [
    {
     "data": {
      "text/plain": [
       "<seaborn.axisgrid.FacetGrid at 0x7f523dcfa470>"
      ]
     },
     "execution_count": 24,
     "metadata": {},
     "output_type": "execute_result"
    },
    {
     "data": {
      "image/png": "[encoded data removed]",
      "text/plain": [
       "<Figure size 360x360 with 1 Axes>"
      ]
     },
     "metadata": {
      "needs_background": "light"
     },
     "output_type": "display_data"
    }
   ],
   "source": [
    "sns.displot(data=data_ex_1.auth_day)"
   ]
  },
  {
   "cell_type": "code",
   "execution_count": 27,
   "metadata": {},
   "outputs": [],
   "source": [
    "# игра набирает обороты и количество аутентификаци резко выросло после 2018-2019 и продолжает расти, \n",
    "# причем рост новых пользователей не такой резкий, что свидетельствует о том, что рост аутентификаций обусловлен не только \n",
    "# ростом числа пользователей, но и ростом числа аутентификаций на одного пользователя,\n",
    "# т.е. пользователи стали чащи посещать игру преимущественно после 2018-2019 годов."
   ]
  },
  {
   "cell_type": "code",
   "execution_count": 25,
   "metadata": {},
   "outputs": [
    {
     "data": {
      "text/plain": [
       "<seaborn.axisgrid.FacetGrid at 0x7f52323c62e8>"
      ]
     },
     "execution_count": 25,
     "metadata": {},
     "output_type": "execute_result"
    },
    {
     "data": {
      "image/png": "[encoded data removed]",
      "text/plain": [
       "<Figure size 360x360 with 1 Axes>"
      ]
     },
     "metadata": {
      "needs_background": "light"
     },
     "output_type": "display_data"
    }
   ],
   "source": [
    "sns.displot(data=data_ex_1.n_day)"
   ]
  },
  {
   "cell_type": "code",
   "execution_count": 29,
   "metadata": {},
   "outputs": [],
   "source": [
    "# количество пользователей, которые более 5 лет после регистрации пользуются игрой крайне мала\n",
    "# видимо в игре что-то изменилось,либо началось активное продвижение после 2019,что привлекло большой поток новых пользователей\n",
    "# пока не понятно как новые пользователи поведут себя в догосрочной перспективе"
   ]
  },
  {
   "cell_type": "code",
   "execution_count": 26,
   "metadata": {},
   "outputs": [
    {
     "data": {
      "text/plain": [
       "datetime.date(1998, 11, 18)"
      ]
     },
     "execution_count": 26,
     "metadata": {},
     "output_type": "execute_result"
    }
   ],
   "source": [
    "data_ex_1.reg_day.min()"
   ]
  },
  {
   "cell_type": "code",
   "execution_count": 27,
   "metadata": {},
   "outputs": [],
   "source": [
    "def text_1():\n",
    "    '''\n",
    "    Чтобы выбрать для каких пользователей мы считаем retention, необходимо указать значение в переменной enter_day_reg\n",
    "    ВВОДИМ НУЖНУЮ ДАТУ РЕГИСТРАЦИИ, ЧТОБЫ ВЫБРАТЬ ПОЛЬЗОВАТЕЛЕЙ \n",
    "    ВЫБОРКА СЧИТАЕТСЯ В ДФ sample_enter_day_reg НИЖЕ И ВЫВОДИТ ПОЛЬЗОВАТЕЛЕЙ, КОТОРЫЕ ЗАРЕГИСТИРОВАЛИСЬ В ДАТУ ИЛИ ПОЗДНЕЕ \n",
    "    ДАТЫ, УКАЗАННОЙ В enter_day_reg.\n",
    "\n",
    "    ЕСЛИ НУЖНО, МОЖНО В РАСЧЕТЕ ПОСТАВИТЬ В РАСЧЕТЕ sample_enter_day_reg В ПОЛЕ НИЖЕ УКАЗАТЬ \"<\"   ИЛИ  \">\" ИЛИ  \"==\" \n",
    "    И ПОЛУЧИТЬ ПОЛЬЗОВАТЕЛЕЙ, КОТОРЫЕ ЗАРЕГИСТИРОВАЛИСЬ ДО ИЛИ ПОСЛЕ ИЛИ В enter_day_reg.\n",
    "\n",
    "    ДЛЯ ВЫВОДА ПО ВСЕМУ ДФ НЕОБХОДИМО ПОСТАВИТЬ ДАТУ (1998, 11, 17) И ЗНАК \">\":\n",
    "\n",
    "    enter_day_reg = datetime.date(1998, 11, 18)\n",
    "    sample_enter_day_reg = data_ex_1.loc[lambda problem1_reg_data: problem1_reg_data['reg_day'] > enter_day_reg]\n",
    "    '''\n"
   ]
  },
  {
   "cell_type": "code",
   "execution_count": 28,
   "metadata": {},
   "outputs": [
    {
     "data": {
      "text/plain": [
       "'\\n    Чтобы выбрать для каких пользователей мы считаем retention, необходимо указать значение в переменной enter_day_reg\\n    ВВОДИМ НУЖНУЮ ДАТУ РЕГИСТРАЦИИ, ЧТОБЫ ВЫБРАТЬ ПОЛЬЗОВАТЕЛЕЙ \\n    ВЫБОРКА СЧИТАЕТСЯ В ДФ sample_enter_day_reg НИЖЕ И ВЫВОДИТ ПОЛЬЗОВАТЕЛЕЙ, КОТОРЫЕ ЗАРЕГИСТИРОВАЛИСЬ В ДАТУ ИЛИ ПОЗДНЕЕ \\n    ДАТЫ, УКАЗАННОЙ В enter_day_reg.\\n\\n    ЕСЛИ НУЖНО, МОЖНО В РАСЧЕТЕ ПОСТАВИТЬ В РАСЧЕТЕ sample_enter_day_reg В ПОЛЕ НИЖЕ УКАЗАТЬ \"<\"   ИЛИ  \">\" ИЛИ  \"==\" \\n    И ПОЛУЧИТЬ ПОЛЬЗОВАТЕЛЕЙ, КОТОРЫЕ ЗАРЕГИСТИРОВАЛИСЬ ДО ИЛИ ПОСЛЕ ИЛИ В enter_day_reg.\\n\\n    ДЛЯ ВЫВОДА ПО ВСЕМУ ДФ НЕОБХОДИМО ПОСТАВИТЬ ДАТУ (1998, 11, 17) И ЗНАК \">\":\\n\\n    enter_day_reg = datetime.date(1998, 11, 18)\\n    sample_enter_day_reg = data_ex_1.loc[lambda problem1_reg_data: problem1_reg_data[\\'reg_day\\'] > enter_day_reg]\\n    '"
      ]
     },
     "execution_count": 28,
     "metadata": {},
     "output_type": "execute_result"
    }
   ],
   "source": [
    "text_1.__doc__"
   ]
  },
  {
   "cell_type": "code",
   "execution_count": 29,
   "metadata": {},
   "outputs": [],
   "source": [
    "enter_day_reg = datetime.date(2020, 9, 10) # указываем дату\n",
    "sample_enter_day_reg = data_ex_1.loc[lambda problem1_reg_data: problem1_reg_data['reg_day'] >= enter_day_reg]\n",
    "\n",
    "count_of_cohort = sample_enter_day_reg.query('n_day==0') \\\n",
    "                                      .groupby('reg_day', as_index = False) \\\n",
    "                                      .agg({'uid': 'count'})\n",
    "\n",
    "\n",
    "data_delta_list = list(range(0,101)) # будем считать retention до 100 дня включительно\n",
    "\n",
    "def calc_retention(sample_enter_day_reg, enter_day_reg):\n",
    "    retention = {}\n",
    "    retention_n = {}\n",
    "    retention_i = []\n",
    "  \n",
    "\n",
    "    for reg in count_of_cohort.reg_day:\n",
    "        sample_reg_day = sample_enter_day_reg.loc[lambda sample_enter_day_reg: sample_enter_day_reg['reg_day'] == reg]\n",
    "        reg_day_cust = int(count_of_cohort.loc[lambda count_of_cohort: count_of_cohort['reg_day'] == reg ].uid)\n",
    "\n",
    "        for day in data_delta_list:\n",
    "           \n",
    "            auth_day_cust = sample_reg_day.loc[lambda sample_reg_day: sample_reg_day['n_day'] == day].uid.nunique()\n",
    "            \n",
    "            if reg_day_cust != 0:\n",
    "                retention_n_i = round (auth_day_cust/reg_day_cust * 100, 2)\n",
    "             \n",
    "            else:\n",
    "                retention_n_i = 0\n",
    "                \n",
    "            retention_i.append (retention_n_i )\n",
    "        \n",
    "        retention_n ={reg:retention_i}\n",
    "        retention.update(retention_n) \n",
    "        retention_i = [] \n",
    "        \n",
    "    return retention"
   ]
  },
  {
   "cell_type": "code",
   "execution_count": 30,
   "metadata": {},
   "outputs": [],
   "source": [
    "calc_retention_func = calc_retention(sample_enter_day_reg, enter_day_reg)"
   ]
  },
  {
   "cell_type": "code",
   "execution_count": 31,
   "metadata": {},
   "outputs": [],
   "source": [
    "retention_df = pd.DataFrame(calc_retention_func).transpose()"
   ]
  },
  {
   "cell_type": "code",
   "execution_count": 32,
   "metadata": {},
   "outputs": [],
   "source": [
    "retention_df = retention_df.reset_index(drop=False)"
   ]
  },
  {
   "cell_type": "code",
   "execution_count": 33,
   "metadata": {},
   "outputs": [],
   "source": [
    "columns_name = data_delta_list.copy()\n",
    "columns_name.insert(0, 'reg_data')"
   ]
  },
  {
   "cell_type": "code",
   "execution_count": 34,
   "metadata": {},
   "outputs": [],
   "source": [
    "retention_df.columns =[columns_name]"
   ]
  },
  {
   "cell_type": "code",
   "execution_count": 35,
   "metadata": {},
   "outputs": [
    {
     "data": {
      "text/html": [
       "<div>\n",
       "<style scoped>\n",
       "    .dataframe tbody tr th:only-of-type {\n",
       "        vertical-align: middle;\n",
       "    }\n",
       "\n",
       "    .dataframe tbody tr th {\n",
       "        vertical-align: top;\n",
       "    }\n",
       "\n",
       "    .dataframe thead tr th {\n",
       "        text-align: left;\n",
       "    }\n",
       "</style>\n",
       "<table border=\"1\" class=\"dataframe\">\n",
       "  <thead>\n",
       "    <tr>\n",
       "      <th></th>\n",
       "      <th>reg_data</th>\n",
       "      <th>0</th>\n",
       "      <th>1</th>\n",
       "      <th>2</th>\n",
       "      <th>3</th>\n",
       "      <th>4</th>\n",
       "      <th>5</th>\n",
       "      <th>6</th>\n",
       "      <th>7</th>\n",
       "      <th>8</th>\n",
       "      <th>...</th>\n",
       "      <th>91</th>\n",
       "      <th>92</th>\n",
       "      <th>93</th>\n",
       "      <th>94</th>\n",
       "      <th>95</th>\n",
       "      <th>96</th>\n",
       "      <th>97</th>\n",
       "      <th>98</th>\n",
       "      <th>99</th>\n",
       "      <th>100</th>\n",
       "    </tr>\n",
       "  </thead>\n",
       "  <tbody>\n",
       "    <tr>\n",
       "      <th>0</th>\n",
       "      <td>2020-09-10</td>\n",
       "      <td>100.0</td>\n",
       "      <td>2.05</td>\n",
       "      <td>4.29</td>\n",
       "      <td>4.79</td>\n",
       "      <td>4.23</td>\n",
       "      <td>6.77</td>\n",
       "      <td>6.28</td>\n",
       "      <td>7.09</td>\n",
       "      <td>4.85</td>\n",
       "      <td>...</td>\n",
       "      <td>0.0</td>\n",
       "      <td>0.0</td>\n",
       "      <td>0.0</td>\n",
       "      <td>0.0</td>\n",
       "      <td>0.0</td>\n",
       "      <td>0.0</td>\n",
       "      <td>0.0</td>\n",
       "      <td>0.0</td>\n",
       "      <td>0.0</td>\n",
       "      <td>0.0</td>\n",
       "    </tr>\n",
       "    <tr>\n",
       "      <th>1</th>\n",
       "      <td>2020-09-11</td>\n",
       "      <td>100.0</td>\n",
       "      <td>1.30</td>\n",
       "      <td>4.03</td>\n",
       "      <td>4.53</td>\n",
       "      <td>5.65</td>\n",
       "      <td>5.71</td>\n",
       "      <td>6.70</td>\n",
       "      <td>6.33</td>\n",
       "      <td>4.40</td>\n",
       "      <td>...</td>\n",
       "      <td>0.0</td>\n",
       "      <td>0.0</td>\n",
       "      <td>0.0</td>\n",
       "      <td>0.0</td>\n",
       "      <td>0.0</td>\n",
       "      <td>0.0</td>\n",
       "      <td>0.0</td>\n",
       "      <td>0.0</td>\n",
       "      <td>0.0</td>\n",
       "      <td>0.0</td>\n",
       "    </tr>\n",
       "    <tr>\n",
       "      <th>2</th>\n",
       "      <td>2020-09-12</td>\n",
       "      <td>100.0</td>\n",
       "      <td>1.92</td>\n",
       "      <td>3.84</td>\n",
       "      <td>4.71</td>\n",
       "      <td>4.65</td>\n",
       "      <td>6.07</td>\n",
       "      <td>6.57</td>\n",
       "      <td>5.76</td>\n",
       "      <td>5.27</td>\n",
       "      <td>...</td>\n",
       "      <td>0.0</td>\n",
       "      <td>0.0</td>\n",
       "      <td>0.0</td>\n",
       "      <td>0.0</td>\n",
       "      <td>0.0</td>\n",
       "      <td>0.0</td>\n",
       "      <td>0.0</td>\n",
       "      <td>0.0</td>\n",
       "      <td>0.0</td>\n",
       "      <td>0.0</td>\n",
       "    </tr>\n",
       "    <tr>\n",
       "      <th>3</th>\n",
       "      <td>2020-09-13</td>\n",
       "      <td>100.0</td>\n",
       "      <td>1.98</td>\n",
       "      <td>4.08</td>\n",
       "      <td>4.26</td>\n",
       "      <td>5.13</td>\n",
       "      <td>6.55</td>\n",
       "      <td>6.49</td>\n",
       "      <td>4.94</td>\n",
       "      <td>4.70</td>\n",
       "      <td>...</td>\n",
       "      <td>0.0</td>\n",
       "      <td>0.0</td>\n",
       "      <td>0.0</td>\n",
       "      <td>0.0</td>\n",
       "      <td>0.0</td>\n",
       "      <td>0.0</td>\n",
       "      <td>0.0</td>\n",
       "      <td>0.0</td>\n",
       "      <td>0.0</td>\n",
       "      <td>0.0</td>\n",
       "    </tr>\n",
       "    <tr>\n",
       "      <th>4</th>\n",
       "      <td>2020-09-14</td>\n",
       "      <td>100.0</td>\n",
       "      <td>2.22</td>\n",
       "      <td>3.83</td>\n",
       "      <td>4.51</td>\n",
       "      <td>5.31</td>\n",
       "      <td>6.49</td>\n",
       "      <td>6.98</td>\n",
       "      <td>6.30</td>\n",
       "      <td>4.45</td>\n",
       "      <td>...</td>\n",
       "      <td>0.0</td>\n",
       "      <td>0.0</td>\n",
       "      <td>0.0</td>\n",
       "      <td>0.0</td>\n",
       "      <td>0.0</td>\n",
       "      <td>0.0</td>\n",
       "      <td>0.0</td>\n",
       "      <td>0.0</td>\n",
       "      <td>0.0</td>\n",
       "      <td>0.0</td>\n",
       "    </tr>\n",
       "    <tr>\n",
       "      <th>5</th>\n",
       "      <td>2020-09-15</td>\n",
       "      <td>100.0</td>\n",
       "      <td>2.22</td>\n",
       "      <td>4.07</td>\n",
       "      <td>4.56</td>\n",
       "      <td>6.04</td>\n",
       "      <td>5.61</td>\n",
       "      <td>6.90</td>\n",
       "      <td>5.67</td>\n",
       "      <td>2.46</td>\n",
       "      <td>...</td>\n",
       "      <td>0.0</td>\n",
       "      <td>0.0</td>\n",
       "      <td>0.0</td>\n",
       "      <td>0.0</td>\n",
       "      <td>0.0</td>\n",
       "      <td>0.0</td>\n",
       "      <td>0.0</td>\n",
       "      <td>0.0</td>\n",
       "      <td>0.0</td>\n",
       "      <td>0.0</td>\n",
       "    </tr>\n",
       "    <tr>\n",
       "      <th>6</th>\n",
       "      <td>2020-09-16</td>\n",
       "      <td>100.0</td>\n",
       "      <td>1.91</td>\n",
       "      <td>4.25</td>\n",
       "      <td>4.62</td>\n",
       "      <td>4.68</td>\n",
       "      <td>6.77</td>\n",
       "      <td>6.95</td>\n",
       "      <td>3.38</td>\n",
       "      <td>0.00</td>\n",
       "      <td>...</td>\n",
       "      <td>0.0</td>\n",
       "      <td>0.0</td>\n",
       "      <td>0.0</td>\n",
       "      <td>0.0</td>\n",
       "      <td>0.0</td>\n",
       "      <td>0.0</td>\n",
       "      <td>0.0</td>\n",
       "      <td>0.0</td>\n",
       "      <td>0.0</td>\n",
       "      <td>0.0</td>\n",
       "    </tr>\n",
       "    <tr>\n",
       "      <th>7</th>\n",
       "      <td>2020-09-17</td>\n",
       "      <td>100.0</td>\n",
       "      <td>1.66</td>\n",
       "      <td>4.30</td>\n",
       "      <td>4.55</td>\n",
       "      <td>5.47</td>\n",
       "      <td>6.27</td>\n",
       "      <td>4.24</td>\n",
       "      <td>0.00</td>\n",
       "      <td>0.00</td>\n",
       "      <td>...</td>\n",
       "      <td>0.0</td>\n",
       "      <td>0.0</td>\n",
       "      <td>0.0</td>\n",
       "      <td>0.0</td>\n",
       "      <td>0.0</td>\n",
       "      <td>0.0</td>\n",
       "      <td>0.0</td>\n",
       "      <td>0.0</td>\n",
       "      <td>0.0</td>\n",
       "      <td>0.0</td>\n",
       "    </tr>\n",
       "    <tr>\n",
       "      <th>8</th>\n",
       "      <td>2020-09-18</td>\n",
       "      <td>100.0</td>\n",
       "      <td>1.90</td>\n",
       "      <td>4.54</td>\n",
       "      <td>4.23</td>\n",
       "      <td>5.21</td>\n",
       "      <td>3.74</td>\n",
       "      <td>0.00</td>\n",
       "      <td>0.00</td>\n",
       "      <td>0.00</td>\n",
       "      <td>...</td>\n",
       "      <td>0.0</td>\n",
       "      <td>0.0</td>\n",
       "      <td>0.0</td>\n",
       "      <td>0.0</td>\n",
       "      <td>0.0</td>\n",
       "      <td>0.0</td>\n",
       "      <td>0.0</td>\n",
       "      <td>0.0</td>\n",
       "      <td>0.0</td>\n",
       "      <td>0.0</td>\n",
       "    </tr>\n",
       "    <tr>\n",
       "      <th>9</th>\n",
       "      <td>2020-09-19</td>\n",
       "      <td>100.0</td>\n",
       "      <td>1.84</td>\n",
       "      <td>3.55</td>\n",
       "      <td>4.71</td>\n",
       "      <td>3.49</td>\n",
       "      <td>0.00</td>\n",
       "      <td>0.00</td>\n",
       "      <td>0.00</td>\n",
       "      <td>0.00</td>\n",
       "      <td>...</td>\n",
       "      <td>0.0</td>\n",
       "      <td>0.0</td>\n",
       "      <td>0.0</td>\n",
       "      <td>0.0</td>\n",
       "      <td>0.0</td>\n",
       "      <td>0.0</td>\n",
       "      <td>0.0</td>\n",
       "      <td>0.0</td>\n",
       "      <td>0.0</td>\n",
       "      <td>0.0</td>\n",
       "    </tr>\n",
       "    <tr>\n",
       "      <th>10</th>\n",
       "      <td>2020-09-20</td>\n",
       "      <td>100.0</td>\n",
       "      <td>2.44</td>\n",
       "      <td>4.34</td>\n",
       "      <td>2.38</td>\n",
       "      <td>0.00</td>\n",
       "      <td>0.00</td>\n",
       "      <td>0.00</td>\n",
       "      <td>0.00</td>\n",
       "      <td>0.00</td>\n",
       "      <td>...</td>\n",
       "      <td>0.0</td>\n",
       "      <td>0.0</td>\n",
       "      <td>0.0</td>\n",
       "      <td>0.0</td>\n",
       "      <td>0.0</td>\n",
       "      <td>0.0</td>\n",
       "      <td>0.0</td>\n",
       "      <td>0.0</td>\n",
       "      <td>0.0</td>\n",
       "      <td>0.0</td>\n",
       "    </tr>\n",
       "    <tr>\n",
       "      <th>11</th>\n",
       "      <td>2020-09-21</td>\n",
       "      <td>100.0</td>\n",
       "      <td>1.89</td>\n",
       "      <td>2.99</td>\n",
       "      <td>0.00</td>\n",
       "      <td>0.00</td>\n",
       "      <td>0.00</td>\n",
       "      <td>0.00</td>\n",
       "      <td>0.00</td>\n",
       "      <td>0.00</td>\n",
       "      <td>...</td>\n",
       "      <td>0.0</td>\n",
       "      <td>0.0</td>\n",
       "      <td>0.0</td>\n",
       "      <td>0.0</td>\n",
       "      <td>0.0</td>\n",
       "      <td>0.0</td>\n",
       "      <td>0.0</td>\n",
       "      <td>0.0</td>\n",
       "      <td>0.0</td>\n",
       "      <td>0.0</td>\n",
       "    </tr>\n",
       "    <tr>\n",
       "      <th>12</th>\n",
       "      <td>2020-09-22</td>\n",
       "      <td>100.0</td>\n",
       "      <td>0.85</td>\n",
       "      <td>0.00</td>\n",
       "      <td>0.00</td>\n",
       "      <td>0.00</td>\n",
       "      <td>0.00</td>\n",
       "      <td>0.00</td>\n",
       "      <td>0.00</td>\n",
       "      <td>0.00</td>\n",
       "      <td>...</td>\n",
       "      <td>0.0</td>\n",
       "      <td>0.0</td>\n",
       "      <td>0.0</td>\n",
       "      <td>0.0</td>\n",
       "      <td>0.0</td>\n",
       "      <td>0.0</td>\n",
       "      <td>0.0</td>\n",
       "      <td>0.0</td>\n",
       "      <td>0.0</td>\n",
       "      <td>0.0</td>\n",
       "    </tr>\n",
       "    <tr>\n",
       "      <th>13</th>\n",
       "      <td>2020-09-23</td>\n",
       "      <td>100.0</td>\n",
       "      <td>0.00</td>\n",
       "      <td>0.00</td>\n",
       "      <td>0.00</td>\n",
       "      <td>0.00</td>\n",
       "      <td>0.00</td>\n",
       "      <td>0.00</td>\n",
       "      <td>0.00</td>\n",
       "      <td>0.00</td>\n",
       "      <td>...</td>\n",
       "      <td>0.0</td>\n",
       "      <td>0.0</td>\n",
       "      <td>0.0</td>\n",
       "      <td>0.0</td>\n",
       "      <td>0.0</td>\n",
       "      <td>0.0</td>\n",
       "      <td>0.0</td>\n",
       "      <td>0.0</td>\n",
       "      <td>0.0</td>\n",
       "      <td>0.0</td>\n",
       "    </tr>\n",
       "  </tbody>\n",
       "</table>\n",
       "<p>14 rows × 102 columns</p>\n",
       "</div>"
      ],
      "text/plain": [
       "      reg_data      0     1     2     3     4     5     6     7     8  ...  \\\n",
       "0   2020-09-10  100.0  2.05  4.29  4.79  4.23  6.77  6.28  7.09  4.85  ...   \n",
       "1   2020-09-11  100.0  1.30  4.03  4.53  5.65  5.71  6.70  6.33  4.40  ...   \n",
       "2   2020-09-12  100.0  1.92  3.84  4.71  4.65  6.07  6.57  5.76  5.27  ...   \n",
       "3   2020-09-13  100.0  1.98  4.08  4.26  5.13  6.55  6.49  4.94  4.70  ...   \n",
       "4   2020-09-14  100.0  2.22  3.83  4.51  5.31  6.49  6.98  6.30  4.45  ...   \n",
       "5   2020-09-15  100.0  2.22  4.07  4.56  6.04  5.61  6.90  5.67  2.46  ...   \n",
       "6   2020-09-16  100.0  1.91  4.25  4.62  4.68  6.77  6.95  3.38  0.00  ...   \n",
       "7   2020-09-17  100.0  1.66  4.30  4.55  5.47  6.27  4.24  0.00  0.00  ...   \n",
       "8   2020-09-18  100.0  1.90  4.54  4.23  5.21  3.74  0.00  0.00  0.00  ...   \n",
       "9   2020-09-19  100.0  1.84  3.55  4.71  3.49  0.00  0.00  0.00  0.00  ...   \n",
       "10  2020-09-20  100.0  2.44  4.34  2.38  0.00  0.00  0.00  0.00  0.00  ...   \n",
       "11  2020-09-21  100.0  1.89  2.99  0.00  0.00  0.00  0.00  0.00  0.00  ...   \n",
       "12  2020-09-22  100.0  0.85  0.00  0.00  0.00  0.00  0.00  0.00  0.00  ...   \n",
       "13  2020-09-23  100.0  0.00  0.00  0.00  0.00  0.00  0.00  0.00  0.00  ...   \n",
       "\n",
       "     91   92   93   94   95   96   97   98   99  100  \n",
       "0   0.0  0.0  0.0  0.0  0.0  0.0  0.0  0.0  0.0  0.0  \n",
       "1   0.0  0.0  0.0  0.0  0.0  0.0  0.0  0.0  0.0  0.0  \n",
       "2   0.0  0.0  0.0  0.0  0.0  0.0  0.0  0.0  0.0  0.0  \n",
       "3   0.0  0.0  0.0  0.0  0.0  0.0  0.0  0.0  0.0  0.0  \n",
       "4   0.0  0.0  0.0  0.0  0.0  0.0  0.0  0.0  0.0  0.0  \n",
       "5   0.0  0.0  0.0  0.0  0.0  0.0  0.0  0.0  0.0  0.0  \n",
       "6   0.0  0.0  0.0  0.0  0.0  0.0  0.0  0.0  0.0  0.0  \n",
       "7   0.0  0.0  0.0  0.0  0.0  0.0  0.0  0.0  0.0  0.0  \n",
       "8   0.0  0.0  0.0  0.0  0.0  0.0  0.0  0.0  0.0  0.0  \n",
       "9   0.0  0.0  0.0  0.0  0.0  0.0  0.0  0.0  0.0  0.0  \n",
       "10  0.0  0.0  0.0  0.0  0.0  0.0  0.0  0.0  0.0  0.0  \n",
       "11  0.0  0.0  0.0  0.0  0.0  0.0  0.0  0.0  0.0  0.0  \n",
       "12  0.0  0.0  0.0  0.0  0.0  0.0  0.0  0.0  0.0  0.0  \n",
       "13  0.0  0.0  0.0  0.0  0.0  0.0  0.0  0.0  0.0  0.0  \n",
       "\n",
       "[14 rows x 102 columns]"
      ]
     },
     "execution_count": 35,
     "metadata": {},
     "output_type": "execute_result"
    }
   ],
   "source": [
    "retention_df"
   ]
  },
  {
   "cell_type": "code",
   "execution_count": null,
   "metadata": {},
   "outputs": [],
   "source": []
  },
  {
   "cell_type": "code",
   "execution_count": null,
   "metadata": {},
   "outputs": [],
   "source": [
    "# Задание 2\n",
    "# Имеются результаты A/B теста, в котором двум группам пользователей предлагались различные наборы акционных предложений.\n",
    "# Известно, что ARPU в тестовой группе выше на 5%, чем в контрольной.\n",
    "# При этом в контрольной группе 1928 игроков из 202103 оказались платящими, а в тестовой – 1805 из 202667.\n",
    "\n",
    "# Какой набор предложений можно считать лучшим? Какие метрики стоит проанализировать для принятия правильного решения и как?"
   ]
  },
  {
   "cell_type": "code",
   "execution_count": 36,
   "metadata": {},
   "outputs": [],
   "source": [
    "# используем api \n",
    "base_url = 'https://cloud-api.yandex.net/v1/disk/public/resources/download?' \n",
    "public_key = 'https://disk.yandex.ru/d/SOkIsD5A8xlI7Q' \n",
    " \n",
    "# получаем url \n",
    "final_url = base_url + urlencode(dict(public_key=public_key)) \n",
    "response = requests.get(final_url) \n",
    "download_url = response.json()['href'] \n",
    " \n",
    "# загружаем файл в df \n",
    "download_response = requests.get(download_url) \n",
    "data_ex_2 = pd.read_csv(download_url, sep = ';') "
   ]
  },
  {
   "cell_type": "code",
   "execution_count": 37,
   "metadata": {},
   "outputs": [
    {
     "data": {
      "text/plain": [
       "True"
      ]
     },
     "execution_count": 37,
     "metadata": {},
     "output_type": "execute_result"
    }
   ],
   "source": [
    "data_ex_2.user_id.nunique()==data_ex_2.user_id.count()"
   ]
  },
  {
   "cell_type": "code",
   "execution_count": 38,
   "metadata": {},
   "outputs": [],
   "source": [
    "# каждый пользователь встречается в статистике 1 раз"
   ]
  },
  {
   "cell_type": "code",
   "execution_count": 39,
   "metadata": {},
   "outputs": [
    {
     "data": {
      "text/html": [
       "<div>\n",
       "<style scoped>\n",
       "    .dataframe tbody tr th:only-of-type {\n",
       "        vertical-align: middle;\n",
       "    }\n",
       "\n",
       "    .dataframe tbody tr th {\n",
       "        vertical-align: top;\n",
       "    }\n",
       "\n",
       "    .dataframe thead th {\n",
       "        text-align: right;\n",
       "    }\n",
       "</style>\n",
       "<table border=\"1\" class=\"dataframe\">\n",
       "  <thead>\n",
       "    <tr style=\"text-align: right;\">\n",
       "      <th></th>\n",
       "      <th>user_id</th>\n",
       "      <th>revenue</th>\n",
       "      <th>testgroup</th>\n",
       "    </tr>\n",
       "  </thead>\n",
       "  <tbody>\n",
       "    <tr>\n",
       "      <th>0</th>\n",
       "      <td>1</td>\n",
       "      <td>0</td>\n",
       "      <td>b</td>\n",
       "    </tr>\n",
       "    <tr>\n",
       "      <th>1</th>\n",
       "      <td>2</td>\n",
       "      <td>0</td>\n",
       "      <td>a</td>\n",
       "    </tr>\n",
       "    <tr>\n",
       "      <th>2</th>\n",
       "      <td>3</td>\n",
       "      <td>0</td>\n",
       "      <td>a</td>\n",
       "    </tr>\n",
       "    <tr>\n",
       "      <th>3</th>\n",
       "      <td>4</td>\n",
       "      <td>0</td>\n",
       "      <td>b</td>\n",
       "    </tr>\n",
       "    <tr>\n",
       "      <th>4</th>\n",
       "      <td>5</td>\n",
       "      <td>0</td>\n",
       "      <td>b</td>\n",
       "    </tr>\n",
       "    <tr>\n",
       "      <th>...</th>\n",
       "      <td>...</td>\n",
       "      <td>...</td>\n",
       "      <td>...</td>\n",
       "    </tr>\n",
       "    <tr>\n",
       "      <th>404765</th>\n",
       "      <td>404766</td>\n",
       "      <td>0</td>\n",
       "      <td>a</td>\n",
       "    </tr>\n",
       "    <tr>\n",
       "      <th>404766</th>\n",
       "      <td>404767</td>\n",
       "      <td>0</td>\n",
       "      <td>b</td>\n",
       "    </tr>\n",
       "    <tr>\n",
       "      <th>404767</th>\n",
       "      <td>404768</td>\n",
       "      <td>231</td>\n",
       "      <td>a</td>\n",
       "    </tr>\n",
       "    <tr>\n",
       "      <th>404768</th>\n",
       "      <td>404769</td>\n",
       "      <td>0</td>\n",
       "      <td>a</td>\n",
       "    </tr>\n",
       "    <tr>\n",
       "      <th>404769</th>\n",
       "      <td>404770</td>\n",
       "      <td>0</td>\n",
       "      <td>b</td>\n",
       "    </tr>\n",
       "  </tbody>\n",
       "</table>\n",
       "<p>404770 rows × 3 columns</p>\n",
       "</div>"
      ],
      "text/plain": [
       "        user_id  revenue testgroup\n",
       "0             1        0         b\n",
       "1             2        0         a\n",
       "2             3        0         a\n",
       "3             4        0         b\n",
       "4             5        0         b\n",
       "...         ...      ...       ...\n",
       "404765   404766        0         a\n",
       "404766   404767        0         b\n",
       "404767   404768      231         a\n",
       "404768   404769        0         a\n",
       "404769   404770        0         b\n",
       "\n",
       "[404770 rows x 3 columns]"
      ]
     },
     "execution_count": 39,
     "metadata": {},
     "output_type": "execute_result"
    }
   ],
   "source": [
    "data_ex_2"
   ]
  },
  {
   "cell_type": "code",
   "execution_count": 40,
   "metadata": {},
   "outputs": [],
   "source": [
    "data_ex_2_a = data_ex_2.query('testgroup==\"a\"') # группа а (контрольная)\n",
    "data_ex_2_b = data_ex_2.query('testgroup==\"b\"') # группа в (тестовая)"
   ]
  },
  {
   "cell_type": "code",
   "execution_count": 41,
   "metadata": {},
   "outputs": [
    {
     "data": {
      "text/html": [
       "<div>\n",
       "<style scoped>\n",
       "    .dataframe tbody tr th:only-of-type {\n",
       "        vertical-align: middle;\n",
       "    }\n",
       "\n",
       "    .dataframe tbody tr th {\n",
       "        vertical-align: top;\n",
       "    }\n",
       "\n",
       "    .dataframe thead th {\n",
       "        text-align: right;\n",
       "    }\n",
       "</style>\n",
       "<table border=\"1\" class=\"dataframe\">\n",
       "  <thead>\n",
       "    <tr style=\"text-align: right;\">\n",
       "      <th></th>\n",
       "      <th>testgroup</th>\n",
       "      <th>revenue</th>\n",
       "    </tr>\n",
       "  </thead>\n",
       "  <tbody>\n",
       "    <tr>\n",
       "      <th>0</th>\n",
       "      <td>a</td>\n",
       "      <td>202103</td>\n",
       "    </tr>\n",
       "    <tr>\n",
       "      <th>1</th>\n",
       "      <td>b</td>\n",
       "      <td>202667</td>\n",
       "    </tr>\n",
       "  </tbody>\n",
       "</table>\n",
       "</div>"
      ],
      "text/plain": [
       "  testgroup  revenue\n",
       "0         a   202103\n",
       "1         b   202667"
      ]
     },
     "execution_count": 41,
     "metadata": {},
     "output_type": "execute_result"
    }
   ],
   "source": [
    "data_ex_2_sum_renev = data_ex_2.groupby('testgroup', as_index = False) \\\n",
    "                               .agg({'revenue':'count'}) \n",
    "data_ex_2_sum_renev"
   ]
  },
  {
   "cell_type": "code",
   "execution_count": 42,
   "metadata": {},
   "outputs": [],
   "source": [
    "# Размер тестовой b и контрольной группы a практически равны (тестровая больше на 0,3%)"
   ]
  },
  {
   "cell_type": "code",
   "execution_count": 43,
   "metadata": {},
   "outputs": [
    {
     "data": {
      "text/plain": [
       "<matplotlib.collections.PathCollection at 0x7f5257205320>"
      ]
     },
     "execution_count": 43,
     "metadata": {},
     "output_type": "execute_result"
    },
    {
     "data": {
      "image/png": "[encoded data removed]",
      "text/plain": [
       "<Figure size 432x288 with 1 Axes>"
      ]
     },
     "metadata": {
      "needs_background": "light"
     },
     "output_type": "display_data"
    }
   ],
   "source": [
    "plt.scatter(data_ex_2.testgroup,data_ex_2.revenue)"
   ]
  },
  {
   "cell_type": "code",
   "execution_count": 44,
   "metadata": {},
   "outputs": [],
   "source": [
    "# в выборке a есть выбросы со значением revenue более 35 000"
   ]
  },
  {
   "cell_type": "code",
   "execution_count": 47,
   "metadata": {},
   "outputs": [],
   "source": [
    "data_ex_2_without_ejection = data_ex_2.query('revenue < 35000')"
   ]
  },
  {
   "cell_type": "code",
   "execution_count": 48,
   "metadata": {},
   "outputs": [
    {
     "data": {
      "text/plain": [
       "<matplotlib.collections.PathCollection at 0x7f52571e2da0>"
      ]
     },
     "execution_count": 48,
     "metadata": {},
     "output_type": "execute_result"
    },
    {
     "data": {
      "image/png": "[encoded data removed]",
      "text/plain": [
       "<Figure size 432x288 with 1 Axes>"
      ]
     },
     "metadata": {
      "needs_background": "light"
     },
     "output_type": "display_data"
    }
   ],
   "source": [
    "plt.scatter(data_ex_2_without_ejection.testgroup,data_ex_2_without_ejection.revenue)"
   ]
  },
  {
   "cell_type": "code",
   "execution_count": 49,
   "metadata": {},
   "outputs": [],
   "source": [
    "# В выборке a есть выбросы более 35000, но если не брать и в расчет, основаная часть наблюдений, отличных от нуля,\n",
    "# в выборке a лежит в диапазоне до 500, а в выборке b - от 2000 до 4000"
   ]
  },
  {
   "cell_type": "code",
   "execution_count": 50,
   "metadata": {},
   "outputs": [
    {
     "data": {
      "text/plain": [
       "<matplotlib.axes._subplots.AxesSubplot at 0x7f52571f7518>"
      ]
     },
     "execution_count": 50,
     "metadata": {},
     "output_type": "execute_result"
    },
    {
     "data": {
      "image/png": "[encoded data removed]",
      "text/plain": [
       "<Figure size 432x288 with 1 Axes>"
      ]
     },
     "metadata": {
      "needs_background": "light"
     },
     "output_type": "display_data"
    }
   ],
   "source": [
    "sns.barplot(data = data_ex_2, x='testgroup', y='revenue', hue=None)"
   ]
  },
  {
   "cell_type": "code",
   "execution_count": 54,
   "metadata": {},
   "outputs": [],
   "source": [
    "# В выборках ARPU клиентов примерно одинаково, но стандартная ошибка среднего в выборке a  больше из-за выборосов"
   ]
  },
  {
   "cell_type": "code",
   "execution_count": 51,
   "metadata": {},
   "outputs": [
    {
     "data": {
      "text/html": [
       "<div>\n",
       "<style scoped>\n",
       "    .dataframe tbody tr th:only-of-type {\n",
       "        vertical-align: middle;\n",
       "    }\n",
       "\n",
       "    .dataframe tbody tr th {\n",
       "        vertical-align: top;\n",
       "    }\n",
       "\n",
       "    .dataframe thead th {\n",
       "        text-align: right;\n",
       "    }\n",
       "</style>\n",
       "<table border=\"1\" class=\"dataframe\">\n",
       "  <thead>\n",
       "    <tr style=\"text-align: right;\">\n",
       "      <th></th>\n",
       "      <th>testgroup</th>\n",
       "      <th>revenue</th>\n",
       "    </tr>\n",
       "  </thead>\n",
       "  <tbody>\n",
       "    <tr>\n",
       "      <th>0</th>\n",
       "      <td>a</td>\n",
       "      <td>25.41</td>\n",
       "    </tr>\n",
       "    <tr>\n",
       "      <th>1</th>\n",
       "      <td>b</td>\n",
       "      <td>26.75</td>\n",
       "    </tr>\n",
       "  </tbody>\n",
       "</table>\n",
       "</div>"
      ],
      "text/plain": [
       "  testgroup  revenue\n",
       "0         a    25.41\n",
       "1         b    26.75"
      ]
     },
     "execution_count": 51,
     "metadata": {},
     "output_type": "execute_result"
    }
   ],
   "source": [
    "data_ex_2_avg_sum_renev = data_ex_2.groupby('testgroup', as_index = False) \\\n",
    "                                   .agg({'revenue':'mean'}) \\\n",
    "                                   .round(2)\n",
    "data_ex_2_avg_sum_renev"
   ]
  },
  {
   "cell_type": "code",
   "execution_count": 52,
   "metadata": {},
   "outputs": [],
   "source": [
    "# ARPU группы b больше на 5% \n",
    "# Сравним средние значения revenue на статзначимые различия"
   ]
  },
  {
   "cell_type": "code",
   "execution_count": 64,
   "metadata": {},
   "outputs": [
    {
     "data": {
      "text/plain": [
       "LeveneResult(statistic=1.57736044973474, pvalue=0.2091420343022563)"
      ]
     },
     "execution_count": 64,
     "metadata": {},
     "output_type": "execute_result"
    }
   ],
   "source": [
    "stats.levene(data_ex_2_a.revenue, data_ex_2_b.revenue, center='mean')"
   ]
  },
  {
   "cell_type": "code",
   "execution_count": 65,
   "metadata": {},
   "outputs": [],
   "source": [
    "# p-значение составляет более 0,05 - это ознаяает, что требование гомогенности дисперсий выполняется,\n",
    "# поэтому t- тест использовать можно при выполнении требования нормальности распределения выборок"
   ]
  },
  {
   "cell_type": "code",
   "execution_count": 66,
   "metadata": {},
   "outputs": [
    {
     "name": "stderr",
     "output_type": "stream",
     "text": [
      "/opt/tljh/user/lib/python3.7/site-packages/scipy/stats/morestats.py:1760: UserWarning: p-value may not be accurate for N > 5000.\n",
      "  warnings.warn(\"p-value may not be accurate for N > 5000.\")\n"
     ]
    },
    {
     "data": {
      "text/plain": [
       "ShapiroResult(statistic=0.008876502513885498, pvalue=0.0)"
      ]
     },
     "execution_count": 66,
     "metadata": {},
     "output_type": "execute_result"
    }
   ],
   "source": [
    "from scipy import stats\n",
    "stats.shapiro(data_ex_2_a.revenue)"
   ]
  },
  {
   "cell_type": "code",
   "execution_count": 67,
   "metadata": {},
   "outputs": [
    {
     "data": {
      "text/plain": [
       "ShapiroResult(statistic=0.06588172912597656, pvalue=0.0)"
      ]
     },
     "execution_count": 67,
     "metadata": {},
     "output_type": "execute_result"
    }
   ],
   "source": [
    "from scipy import stats\n",
    "stats.shapiro(data_ex_2_b.revenue)"
   ]
  },
  {
   "cell_type": "code",
   "execution_count": 68,
   "metadata": {},
   "outputs": [],
   "source": [
    "# pvalue меньше 0,05, поэтому выборки не могут считаться нормальными\n",
    "# но на таких больших объемах данных для использования t- теста проверкой нормальности можно пренебречь, но при этом \n",
    "# в данных не должно быть заметных выбросов. Это не наш вариант, поэтому используем bootstrap."
   ]
  },
  {
   "cell_type": "code",
   "execution_count": 69,
   "metadata": {},
   "outputs": [
    {
     "data": {
      "text/plain": [
       "<seaborn.axisgrid.FacetGrid at 0x7f5256f812b0>"
      ]
     },
     "execution_count": 69,
     "metadata": {},
     "output_type": "execute_result"
    },
    {
     "data": {
      "image/png": "[encoded data removed]",
      "text/plain": [
       "<Figure size 416x360 with 1 Axes>"
      ]
     },
     "metadata": {
      "needs_background": "light"
     },
     "output_type": "display_data"
    }
   ],
   "source": [
    "sns.displot(data=data_ex_2, x=\"revenue\", hue=\"testgroup\", bins = 20)"
   ]
  },
  {
   "cell_type": "code",
   "execution_count": 112,
   "metadata": {},
   "outputs": [],
   "source": [
    "a_df_1 = data_ex_2.query('testgroup == \"a\"')\n",
    "b_df_1 = data_ex_2.query('testgroup == \"b\"')\n",
    "\n",
    "mean_diff = []\n",
    "\n",
    "for i in range(10000):\n",
    "    sample_a = a_df_1.sample(frac=1, replace=True)\n",
    "    sample_mean_a = sample_a.revenue.mean()\n",
    "    \n",
    "    \n",
    "    sample_b = b_df_1.sample(frac=1, replace=True)\n",
    "    sample_mean_b = sample_b.revenue.mean()\n",
    "    \n",
    "    \n",
    "    sample_mean_diff = sample_mean_a - sample_mean_b\n",
    "    mean_diff.append(sample_mean_diff)"
   ]
  },
  {
   "cell_type": "code",
   "execution_count": 113,
   "metadata": {},
   "outputs": [
    {
     "data": {
      "text/plain": [
       "-5.482449446051898"
      ]
     },
     "execution_count": 113,
     "metadata": {},
     "output_type": "execute_result"
    }
   ],
   "source": [
    "pd.Series(mean_diff).quantile(0.025)"
   ]
  },
  {
   "cell_type": "code",
   "execution_count": 114,
   "metadata": {},
   "outputs": [
    {
     "data": {
      "text/plain": [
       "3.0100113778324498"
      ]
     },
     "execution_count": 114,
     "metadata": {},
     "output_type": "execute_result"
    }
   ],
   "source": [
    "pd.Series(mean_diff).quantile(0.975)"
   ]
  },
  {
   "cell_type": "code",
   "execution_count": 66,
   "metadata": {},
   "outputs": [],
   "source": [
    "# доверительный интервал дельты выборочных средних пересекает 0, это означает, что средние выборок статзначимо не отличаются"
   ]
  },
  {
   "cell_type": "code",
   "execution_count": 71,
   "metadata": {},
   "outputs": [
    {
     "data": {
      "text/html": [
       "<div>\n",
       "<style scoped>\n",
       "    .dataframe tbody tr th:only-of-type {\n",
       "        vertical-align: middle;\n",
       "    }\n",
       "\n",
       "    .dataframe tbody tr th {\n",
       "        vertical-align: top;\n",
       "    }\n",
       "\n",
       "    .dataframe thead th {\n",
       "        text-align: right;\n",
       "    }\n",
       "</style>\n",
       "<table border=\"1\" class=\"dataframe\">\n",
       "  <thead>\n",
       "    <tr style=\"text-align: right;\">\n",
       "      <th></th>\n",
       "      <th>testgroup</th>\n",
       "      <th>revenue</th>\n",
       "    </tr>\n",
       "  </thead>\n",
       "  <tbody>\n",
       "    <tr>\n",
       "      <th>0</th>\n",
       "      <td>a</td>\n",
       "      <td>0</td>\n",
       "    </tr>\n",
       "    <tr>\n",
       "      <th>1</th>\n",
       "      <td>b</td>\n",
       "      <td>0</td>\n",
       "    </tr>\n",
       "  </tbody>\n",
       "</table>\n",
       "</div>"
      ],
      "text/plain": [
       "  testgroup  revenue\n",
       "0         a        0\n",
       "1         b        0"
      ]
     },
     "execution_count": 71,
     "metadata": {},
     "output_type": "execute_result"
    }
   ],
   "source": [
    "data_ex_2_med_renev = data_ex_2.groupby('testgroup', as_index = False) \\\n",
    "                                   .agg({'revenue':np.median}) \n",
    "data_ex_2_med_renev"
   ]
  },
  {
   "cell_type": "code",
   "execution_count": 72,
   "metadata": {},
   "outputs": [],
   "source": [
    "# медианы в выборках равны 0, потому что CR значительно ниже 50%  и у бОльшей части пользователей revenue 0"
   ]
  },
  {
   "cell_type": "code",
   "execution_count": 73,
   "metadata": {},
   "outputs": [
    {
     "data": {
      "text/html": [
       "<div>\n",
       "<style scoped>\n",
       "    .dataframe tbody tr th:only-of-type {\n",
       "        vertical-align: middle;\n",
       "    }\n",
       "\n",
       "    .dataframe tbody tr th {\n",
       "        vertical-align: top;\n",
       "    }\n",
       "\n",
       "    .dataframe thead th {\n",
       "        text-align: right;\n",
       "    }\n",
       "</style>\n",
       "<table border=\"1\" class=\"dataframe\">\n",
       "  <thead>\n",
       "    <tr style=\"text-align: right;\">\n",
       "      <th></th>\n",
       "      <th>testgroup</th>\n",
       "      <th>revenue</th>\n",
       "    </tr>\n",
       "  </thead>\n",
       "  <tbody>\n",
       "    <tr>\n",
       "      <th>0</th>\n",
       "      <td>a</td>\n",
       "      <td>1928</td>\n",
       "    </tr>\n",
       "    <tr>\n",
       "      <th>1</th>\n",
       "      <td>b</td>\n",
       "      <td>1805</td>\n",
       "    </tr>\n",
       "  </tbody>\n",
       "</table>\n",
       "</div>"
      ],
      "text/plain": [
       "  testgroup  revenue\n",
       "0         a     1928\n",
       "1         b     1805"
      ]
     },
     "execution_count": 73,
     "metadata": {},
     "output_type": "execute_result"
    }
   ],
   "source": [
    "data_ex_2_not_0_ren_count = data_ex_2.query('revenue > 0') \\\n",
    "                                     .groupby('testgroup', as_index = False) \\\n",
    "                                     .agg({'revenue':'count'})\n",
    "\n",
    "data_ex_2_not_0_ren_count # количество платящих пользователей"
   ]
  },
  {
   "cell_type": "code",
   "execution_count": 74,
   "metadata": {},
   "outputs": [
    {
     "data": {
      "text/html": [
       "<div>\n",
       "<style scoped>\n",
       "    .dataframe tbody tr th:only-of-type {\n",
       "        vertical-align: middle;\n",
       "    }\n",
       "\n",
       "    .dataframe tbody tr th {\n",
       "        vertical-align: top;\n",
       "    }\n",
       "\n",
       "    .dataframe thead th {\n",
       "        text-align: right;\n",
       "    }\n",
       "</style>\n",
       "<table border=\"1\" class=\"dataframe\">\n",
       "  <thead>\n",
       "    <tr style=\"text-align: right;\">\n",
       "      <th></th>\n",
       "      <th>testgroup</th>\n",
       "      <th>revenue</th>\n",
       "    </tr>\n",
       "  </thead>\n",
       "  <tbody>\n",
       "    <tr>\n",
       "      <th>0</th>\n",
       "      <td>a</td>\n",
       "      <td>202103</td>\n",
       "    </tr>\n",
       "    <tr>\n",
       "      <th>1</th>\n",
       "      <td>b</td>\n",
       "      <td>202667</td>\n",
       "    </tr>\n",
       "  </tbody>\n",
       "</table>\n",
       "</div>"
      ],
      "text/plain": [
       "  testgroup  revenue\n",
       "0         a   202103\n",
       "1         b   202667"
      ]
     },
     "execution_count": 74,
     "metadata": {},
     "output_type": "execute_result"
    }
   ],
   "source": [
    "data_ex_2_sum_cust = data_ex_2.groupby('testgroup', as_index = False) \\\n",
    "                              .agg({'revenue':'count'})\n",
    "\n",
    "data_ex_2_sum_cust # количество всех пользователей"
   ]
  },
  {
   "cell_type": "code",
   "execution_count": 75,
   "metadata": {},
   "outputs": [
    {
     "data": {
      "text/html": [
       "<div>\n",
       "<style scoped>\n",
       "    .dataframe tbody tr th:only-of-type {\n",
       "        vertical-align: middle;\n",
       "    }\n",
       "\n",
       "    .dataframe tbody tr th {\n",
       "        vertical-align: top;\n",
       "    }\n",
       "\n",
       "    .dataframe thead th {\n",
       "        text-align: right;\n",
       "    }\n",
       "</style>\n",
       "<table border=\"1\" class=\"dataframe\">\n",
       "  <thead>\n",
       "    <tr style=\"text-align: right;\">\n",
       "      <th></th>\n",
       "      <th>testgroup</th>\n",
       "      <th>val_not_0</th>\n",
       "      <th>all_val</th>\n",
       "      <th>cr</th>\n",
       "    </tr>\n",
       "  </thead>\n",
       "  <tbody>\n",
       "    <tr>\n",
       "      <th>0</th>\n",
       "      <td>a</td>\n",
       "      <td>1928</td>\n",
       "      <td>202103</td>\n",
       "      <td>0.95</td>\n",
       "    </tr>\n",
       "    <tr>\n",
       "      <th>1</th>\n",
       "      <td>b</td>\n",
       "      <td>1805</td>\n",
       "      <td>202667</td>\n",
       "      <td>0.89</td>\n",
       "    </tr>\n",
       "  </tbody>\n",
       "</table>\n",
       "</div>"
      ],
      "text/plain": [
       "  testgroup  val_not_0  all_val    cr\n",
       "0         a       1928   202103  0.95\n",
       "1         b       1805   202667  0.89"
      ]
     },
     "execution_count": 75,
     "metadata": {},
     "output_type": "execute_result"
    }
   ],
   "source": [
    "data_ex_2_cr = data_ex_2_not_0_ren_count.merge(data_ex_2_sum_cust, on = 'testgroup' )\n",
    "data_ex_2_cr = data_ex_2_cr.rename(columns = {'revenue_x':'val_not_0', 'revenue_y':'all_val'})\n",
    "data_ex_2_cr['cr'] = round(data_ex_2_cr['val_not_0']/data_ex_2_cr['all_val']*100,2)\n",
    "data_ex_2_cr # доля платящих пользователей"
   ]
  },
  {
   "cell_type": "code",
   "execution_count": 76,
   "metadata": {},
   "outputs": [
    {
     "data": {
      "text/html": [
       "<div>\n",
       "<style scoped>\n",
       "    .dataframe tbody tr th:only-of-type {\n",
       "        vertical-align: middle;\n",
       "    }\n",
       "\n",
       "    .dataframe tbody tr th {\n",
       "        vertical-align: top;\n",
       "    }\n",
       "\n",
       "    .dataframe thead th {\n",
       "        text-align: right;\n",
       "    }\n",
       "</style>\n",
       "<table border=\"1\" class=\"dataframe\">\n",
       "  <thead>\n",
       "    <tr style=\"text-align: right;\">\n",
       "      <th></th>\n",
       "      <th>0</th>\n",
       "      <th>1</th>\n",
       "    </tr>\n",
       "  </thead>\n",
       "  <tbody>\n",
       "    <tr>\n",
       "      <th>val_not_0</th>\n",
       "      <td>1928</td>\n",
       "      <td>1805</td>\n",
       "    </tr>\n",
       "    <tr>\n",
       "      <th>all_val</th>\n",
       "      <td>202103</td>\n",
       "      <td>202667</td>\n",
       "    </tr>\n",
       "  </tbody>\n",
       "</table>\n",
       "</div>"
      ],
      "text/plain": [
       "                0       1\n",
       "val_not_0    1928    1805\n",
       "all_val    202103  202667"
      ]
     },
     "execution_count": 76,
     "metadata": {},
     "output_type": "execute_result"
    }
   ],
   "source": [
    "data_ex_2_cr [['val_not_0', 'all_val']] .transpose()"
   ]
  },
  {
   "cell_type": "code",
   "execution_count": 77,
   "metadata": {},
   "outputs": [
    {
     "data": {
      "text/plain": [
       "(4.294148751290092,\n",
       " 0.03824373651044171,\n",
       " 1,\n",
       " array([[  1864.48501725,   1868.51498275],\n",
       "        [202166.51498275, 202603.48501725]]))"
      ]
     },
     "execution_count": 77,
     "metadata": {},
     "output_type": "execute_result"
    }
   ],
   "source": [
    "from scipy.stats import chi2_contingency\n",
    "obs = data_ex_2_cr [['val_not_0', 'all_val']] .transpose()\n",
    "chi2_contingency(obs)"
   ]
  },
  {
   "cell_type": "code",
   "execution_count": 78,
   "metadata": {},
   "outputs": [],
   "source": [
    "# pvalue(0.03824373651044171) ниже, чем 0,05, поэтому мы можем говорить о том, что то cr в группах a и b статзначимо отличается.\n",
    "# В контрольной группе бОльшая доля пользователей воспользовалась акционным предложением (на 0,06 %)"
   ]
  },
  {
   "cell_type": "code",
   "execution_count": 79,
   "metadata": {},
   "outputs": [
    {
     "data": {
      "text/html": [
       "<div>\n",
       "<style scoped>\n",
       "    .dataframe tbody tr th:only-of-type {\n",
       "        vertical-align: middle;\n",
       "    }\n",
       "\n",
       "    .dataframe tbody tr th {\n",
       "        vertical-align: top;\n",
       "    }\n",
       "\n",
       "    .dataframe thead th {\n",
       "        text-align: right;\n",
       "    }\n",
       "</style>\n",
       "<table border=\"1\" class=\"dataframe\">\n",
       "  <thead>\n",
       "    <tr style=\"text-align: right;\">\n",
       "      <th></th>\n",
       "      <th>testgroup</th>\n",
       "      <th>revenue</th>\n",
       "    </tr>\n",
       "  </thead>\n",
       "  <tbody>\n",
       "    <tr>\n",
       "      <th>0</th>\n",
       "      <td>a</td>\n",
       "      <td>5136189</td>\n",
       "    </tr>\n",
       "    <tr>\n",
       "      <th>1</th>\n",
       "      <td>b</td>\n",
       "      <td>5421603</td>\n",
       "    </tr>\n",
       "  </tbody>\n",
       "</table>\n",
       "</div>"
      ],
      "text/plain": [
       "  testgroup  revenue\n",
       "0         a  5136189\n",
       "1         b  5421603"
      ]
     },
     "execution_count": 79,
     "metadata": {},
     "output_type": "execute_result"
    }
   ],
   "source": [
    "data_ex_2_sum_ren = data_ex_2.groupby('testgroup', as_index = False) \\\n",
    "                             .agg({'revenue':'sum'})\n",
    "data_ex_2_sum_ren"
   ]
  },
  {
   "cell_type": "code",
   "execution_count": 80,
   "metadata": {},
   "outputs": [],
   "source": [
    " # Суммарная прибыль от пользователей тестовой группы b больше на 5 % несмотря на то, что в группе а cr больше на 0,06 %.\n",
    " # Это следствие того, что выборка b больше на 0,3 % пользоватлей и ARPU группы b больше на 5% "
   ]
  },
  {
   "cell_type": "code",
   "execution_count": 81,
   "metadata": {},
   "outputs": [],
   "source": [
    " # Посмотрим отдельно на платящих пользователей"
   ]
  },
  {
   "cell_type": "code",
   "execution_count": 82,
   "metadata": {},
   "outputs": [
    {
     "data": {
      "text/html": [
       "<div>\n",
       "<style scoped>\n",
       "    .dataframe tbody tr th:only-of-type {\n",
       "        vertical-align: middle;\n",
       "    }\n",
       "\n",
       "    .dataframe tbody tr th {\n",
       "        vertical-align: top;\n",
       "    }\n",
       "\n",
       "    .dataframe thead th {\n",
       "        text-align: right;\n",
       "    }\n",
       "</style>\n",
       "<table border=\"1\" class=\"dataframe\">\n",
       "  <thead>\n",
       "    <tr style=\"text-align: right;\">\n",
       "      <th></th>\n",
       "      <th>testgroup</th>\n",
       "      <th>revenue</th>\n",
       "    </tr>\n",
       "  </thead>\n",
       "  <tbody>\n",
       "    <tr>\n",
       "      <th>0</th>\n",
       "      <td>a</td>\n",
       "      <td>2664.0</td>\n",
       "    </tr>\n",
       "    <tr>\n",
       "      <th>1</th>\n",
       "      <td>b</td>\n",
       "      <td>3004.0</td>\n",
       "    </tr>\n",
       "  </tbody>\n",
       "</table>\n",
       "</div>"
      ],
      "text/plain": [
       "  testgroup  revenue\n",
       "0         a   2664.0\n",
       "1         b   3004.0"
      ]
     },
     "execution_count": 82,
     "metadata": {},
     "output_type": "execute_result"
    }
   ],
   "source": [
    "data_ex_2_not_0_ren_mean = data_ex_2.query('revenue > 0') \\\n",
    "                                    .groupby('testgroup', as_index = False) \\\n",
    "                                    .agg({'revenue':'mean'}) \\\n",
    "                                     .round(0)\n",
    "data_ex_2_not_0_ren_mean"
   ]
  },
  {
   "cell_type": "code",
   "execution_count": 83,
   "metadata": {},
   "outputs": [],
   "source": [
    "# ARPPU в тестовой группе (b) выше на 11 %, чем в контрольной (a)"
   ]
  },
  {
   "cell_type": "code",
   "execution_count": 84,
   "metadata": {},
   "outputs": [
    {
     "data": {
      "text/html": [
       "<div>\n",
       "<style scoped>\n",
       "    .dataframe tbody tr th:only-of-type {\n",
       "        vertical-align: middle;\n",
       "    }\n",
       "\n",
       "    .dataframe tbody tr th {\n",
       "        vertical-align: top;\n",
       "    }\n",
       "\n",
       "    .dataframe thead th {\n",
       "        text-align: right;\n",
       "    }\n",
       "</style>\n",
       "<table border=\"1\" class=\"dataframe\">\n",
       "  <thead>\n",
       "    <tr style=\"text-align: right;\">\n",
       "      <th></th>\n",
       "      <th>testgroup</th>\n",
       "      <th>revenue</th>\n",
       "    </tr>\n",
       "  </thead>\n",
       "  <tbody>\n",
       "    <tr>\n",
       "      <th>0</th>\n",
       "      <td>a</td>\n",
       "      <td>311</td>\n",
       "    </tr>\n",
       "    <tr>\n",
       "      <th>1</th>\n",
       "      <td>b</td>\n",
       "      <td>3022</td>\n",
       "    </tr>\n",
       "  </tbody>\n",
       "</table>\n",
       "</div>"
      ],
      "text/plain": [
       "  testgroup  revenue\n",
       "0         a      311\n",
       "1         b     3022"
      ]
     },
     "execution_count": 84,
     "metadata": {},
     "output_type": "execute_result"
    }
   ],
   "source": [
    "data_ex_2_not_0_ren_median = data_ex_2.query('revenue > 0') \\\n",
    "                                      .groupby('testgroup', as_index = False) \\\n",
    "                                      .agg({'revenue':np.median}) \\\n",
    "                                      .round(0)\n",
    "data_ex_2_not_0_ren_median"
   ]
  },
  {
   "cell_type": "code",
   "execution_count": 85,
   "metadata": {},
   "outputs": [],
   "source": [
    "# медианные траты по платящим пользователям в тестовой группе (b) почти в 10 раз выше, чем в контрольной"
   ]
  },
  {
   "cell_type": "code",
   "execution_count": 86,
   "metadata": {},
   "outputs": [],
   "source": [
    "sample_a = data_ex_2.query('testgroup == \"a\" & revenue > 0').revenue # контрольная групп, платящие пользователи"
   ]
  },
  {
   "cell_type": "code",
   "execution_count": 87,
   "metadata": {},
   "outputs": [],
   "source": [
    "sample_b = data_ex_2.query('testgroup == \"b\" & revenue > 0').revenue # тестовая группа, платящие пользователи"
   ]
  },
  {
   "cell_type": "code",
   "execution_count": 88,
   "metadata": {},
   "outputs": [],
   "source": [
    "# чтобы использовать t-тест, необходимо проверить выборки на гомогенность дисперсий и нормальность"
   ]
  },
  {
   "cell_type": "code",
   "execution_count": 89,
   "metadata": {},
   "outputs": [
    {
     "data": {
      "text/plain": [
       "LeveneResult(statistic=445.9869447066088, pvalue=1.3202514573715939e-93)"
      ]
     },
     "execution_count": 89,
     "metadata": {},
     "output_type": "execute_result"
    }
   ],
   "source": [
    "stats.levene(sample_a, sample_b, center='mean')"
   ]
  },
  {
   "cell_type": "code",
   "execution_count": 90,
   "metadata": {},
   "outputs": [
    {
     "data": {
      "text/plain": [
       "LeveneResult(statistic=80.85567421779912, pvalue=3.779689868667878e-19)"
      ]
     },
     "execution_count": 90,
     "metadata": {},
     "output_type": "execute_result"
    }
   ],
   "source": [
    "stats.levene(sample_a, sample_b, center='median')"
   ]
  },
  {
   "cell_type": "code",
   "execution_count": 91,
   "metadata": {},
   "outputs": [],
   "source": [
    "# p-значение составляет менее 0,05 и по средгнему значению и по медиане\n",
    "# Это ознаяает, что требование гомогенности дисперсий не выполняется, поэтому t- тест использовать не получится\n",
    "# будем использовать bootstrap"
   ]
  },
  {
   "cell_type": "code",
   "execution_count": 92,
   "metadata": {},
   "outputs": [],
   "source": [
    "# Посмотрим как выглядят выборки платящих пользователей на графике"
   ]
  },
  {
   "cell_type": "code",
   "execution_count": 93,
   "metadata": {},
   "outputs": [
    {
     "data": {
      "text/plain": [
       "<seaborn.axisgrid.FacetGrid at 0x7f5256f73240>"
      ]
     },
     "execution_count": 93,
     "metadata": {},
     "output_type": "execute_result"
    },
    {
     "data": {
      "image/png": "[encoded data removed]",
      "text/plain": [
       "<Figure size 416x360 with 1 Axes>"
      ]
     },
     "metadata": {
      "needs_background": "light"
     },
     "output_type": "display_data"
    }
   ],
   "source": [
    "sns.displot(data=data_ex_2.query('revenue > 0'), x=\"revenue\", hue=\"testgroup\")"
   ]
  },
  {
   "cell_type": "code",
   "execution_count": 94,
   "metadata": {},
   "outputs": [],
   "source": [
    "# контрольная выборка (a) крайне неоднородна"
   ]
  },
  {
   "cell_type": "code",
   "execution_count": 95,
   "metadata": {},
   "outputs": [
    {
     "data": {
      "text/plain": [
       "123"
      ]
     },
     "execution_count": 95,
     "metadata": {},
     "output_type": "execute_result"
    }
   ],
   "source": [
    "data_ex_2.query('testgroup == \"a\" & revenue > 37000').revenue.count() \n",
    "# в контрольной выборке 6 % (123 из 1928) составляют траты суммой более 37 000"
   ]
  },
  {
   "cell_type": "code",
   "execution_count": 96,
   "metadata": {},
   "outputs": [
    {
     "data": {
      "text/plain": [
       "4590252"
      ]
     },
     "execution_count": 96,
     "metadata": {},
     "output_type": "execute_result"
    }
   ],
   "source": [
    "data_ex_2.query('testgroup == \"a\" & revenue > 37000').revenue.sum() \n",
    "# и при этом составляют 89 % от всех потраченных средств от пользователей контрольной группы (4 590 252 из 5 136 189)"
   ]
  },
  {
   "cell_type": "code",
   "execution_count": 97,
   "metadata": {},
   "outputs": [
    {
     "data": {
      "text/plain": [
       "1805"
      ]
     },
     "execution_count": 97,
     "metadata": {},
     "output_type": "execute_result"
    }
   ],
   "source": [
    "data_ex_2.query('testgroup == \"a\" & revenue < 450 & revenue > 0').revenue.count() \n",
    "# основная же часть контрольной выборки (94%) значений лежит в интервале от 200 до 450"
   ]
  },
  {
   "cell_type": "code",
   "execution_count": 98,
   "metadata": {},
   "outputs": [
    {
     "data": {
      "text/plain": [
       "545937"
      ]
     },
     "execution_count": 98,
     "metadata": {},
     "output_type": "execute_result"
    }
   ],
   "source": [
    "data_ex_2.query('testgroup == \"a\" & revenue < 450 & revenue > 0').revenue.sum() \n",
    "# и при этом составляют 11 % от всех потраченных средств от пользователей контрольной группы (545 937 из 5 136 189)"
   ]
  },
  {
   "cell_type": "code",
   "execution_count": 99,
   "metadata": {},
   "outputs": [],
   "source": [
    "# чтобы оценить статистическую значимость различий в медианах и средних применяем bootstrap"
   ]
  },
  {
   "cell_type": "code",
   "execution_count": 100,
   "metadata": {},
   "outputs": [],
   "source": [
    "a_df = data_ex_2.query('testgroup == \"a\" & revenue > 0')\n",
    "b_df = data_ex_2.query('testgroup == \"b\" & revenue > 0')\n",
    "\n",
    "median_diff = []\n",
    "\n",
    "for i in range(10000):\n",
    "    sample_data_a = a_df.sample(frac=1, replace=True)\n",
    "    sample_median_a = sample_data_a.revenue.median()\n",
    "    \n",
    "    \n",
    "    sample_data_b = b_df.sample(frac=1, replace=True)\n",
    "    sample_median_b = sample_data_b.revenue.median()\n",
    "    \n",
    "    \n",
    "    sample_median_diff = sample_median_a - sample_median_b\n",
    "    median_diff.append(sample_median_diff)"
   ]
  },
  {
   "cell_type": "code",
   "execution_count": 101,
   "metadata": {},
   "outputs": [
    {
     "data": {
      "text/plain": [
       "-2760.0"
      ]
     },
     "execution_count": 101,
     "metadata": {},
     "output_type": "execute_result"
    }
   ],
   "source": [
    "pd.Series(median_diff).quantile(0.025)"
   ]
  },
  {
   "cell_type": "code",
   "execution_count": 102,
   "metadata": {},
   "outputs": [
    {
     "data": {
      "text/plain": [
       "-2657.0"
      ]
     },
     "execution_count": 102,
     "metadata": {},
     "output_type": "execute_result"
    }
   ],
   "source": [
    "pd.Series(median_diff).quantile(0.975)"
   ]
  },
  {
   "cell_type": "code",
   "execution_count": 103,
   "metadata": {},
   "outputs": [],
   "source": [
    "# медианы стазначимо отличаются, т.е. экспиримент повлиял на медианные траты платящих пользователей"
   ]
  },
  {
   "cell_type": "code",
   "execution_count": 104,
   "metadata": {},
   "outputs": [],
   "source": [
    "a_df_w0 = data_ex_2.query('testgroup == \"a\" & revenue > 0')\n",
    "b_df_w0 = data_ex_2.query('testgroup == \"b\" & revenue > 0')\n",
    "\n",
    "mean_diff_w0 = []\n",
    "\n",
    "for i in range(10000):\n",
    "    sample_a_w0 = a_df_w0.sample(frac=1, replace=True)\n",
    "    sample_mean_a_w0 = sample_a_w0.revenue.mean()\n",
    "    \n",
    "    \n",
    "    sample_b_w0 = b_df_w0.sample(frac=1, replace=True)\n",
    "    sample_mean_b_w0 = sample_b_w0.revenue.mean()\n",
    "    \n",
    "    \n",
    "    sample_mean_diff_w0 = sample_mean_a_w0 - sample_mean_b_w0\n",
    "    mean_diff_w0.append(sample_mean_diff_w0)"
   ]
  },
  {
   "cell_type": "code",
   "execution_count": 105,
   "metadata": {},
   "outputs": [
    {
     "data": {
      "text/plain": [
       "-736.9073267333135"
      ]
     },
     "execution_count": 105,
     "metadata": {},
     "output_type": "execute_result"
    }
   ],
   "source": [
    "pd.Series(mean_diff_w0).quantile(0.025)"
   ]
  },
  {
   "cell_type": "code",
   "execution_count": 106,
   "metadata": {},
   "outputs": [
    {
     "data": {
      "text/plain": [
       "70.56851602280355"
      ]
     },
     "execution_count": 106,
     "metadata": {},
     "output_type": "execute_result"
    }
   ],
   "source": [
    "pd.Series(mean_diff_w0).quantile(0.975)"
   ]
  },
  {
   "cell_type": "code",
   "execution_count": 107,
   "metadata": {},
   "outputs": [],
   "source": [
    "# средние стазначимо не отличаются, т.е. экспиримент не повлиял на средние траты платящих пользователей"
   ]
  },
  {
   "cell_type": "code",
   "execution_count": 108,
   "metadata": {},
   "outputs": [],
   "source": [
    "def text_2():\n",
    "    '''\n",
    "     Какие выводы можно сделать?\n",
    "     \n",
    "     При сравнении средних доходов от пользователей статзначимых различий в экспериментах не обнаружено.\n",
    "     CR в группе a статзначимо отличается от группы b  и выше на 0,06 %. При численности выборки 10 000 - это дополнительно\n",
    "     всего 6 платящих пользователей, а при численноси 100 000 - 60. \n",
    "     Если же смотреть по медианным тратам платящих пользователей, то в группе b результаты статзначимо выше группы a.\n",
    "          \n",
    "     Поэтому, если рассматиривать метрики в совокупности, то я бы бы рекомендовала выбрать вариант b, ведь с точки зрения\n",
    "     надежности для бизнеса он предпочтительнее, так как все пользователи платят плюс/минус одинаково и потеря одного\n",
    "     (особенно крупного) пользователяне не приведет к существенному проседанию общей прибыли, как в варианте a. \n",
    "     \n",
    "     А чтобы доходы были максимальны, необходимо применить гибридный варинт акционных предложений:\n",
    "     проанализировать срез клиентов и выявить потенциальных пользователей, которые могут потратить более 37 000\n",
    "     и применить к ним набор предложения из контрольной группы, а остальным пользователям предлагать\n",
    "     варианты из тестовой, где средние и медианные траты основной массы пользователей выше.\n",
    "     Таким образом мы получим и сверхвысокодоходных пользователей, которых будет немного, но которые значимо влияют на \n",
    "     общую прибыль, и увеличим прибыль от основной массы базовых пользователей.\n",
    "\n",
    "     '''"
   ]
  },
  {
   "cell_type": "code",
   "execution_count": 109,
   "metadata": {},
   "outputs": [
    {
     "data": {
      "text/plain": [
       "'\\n     Какие выводы можно сделать?\\n     \\n     При сравнении средних доходов от пользователей статзначимых различий в экспериментах не обнаружено.\\n     CR в группе a статзначимо отличается от группы b  и выше на 0,06 %. При численности выборки 10 000 - это дополнительно\\n     всего 6 платящих пользователей, а при численноси 100 000 - 60. \\n     Если же смотреть по медианным тратам платящих пользователей, то в группе b результаты статзначимо выше группы a.\\n          \\n     Поэтому, если рассматиривать метрики в совокупности, то я бы бы рекомендовала выбрать вариант b, ведь с точки зрения\\n     надежности для бизнеса он предпочтительнее, так как все пользователи платят плюс/минус одинаково и потеря одного\\n     (особенно крупного) пользователяне не приведет к существенному проседанию общей прибыли, как в варианте a. \\n     \\n     А чтобы доходы были максимальны, необходимо применить гибридный варинт акционных предложений:\\n     проанализировать срез клиентов и выявить потенциальных пользователей, которые могут потратить более 37 000\\n     и применить к ним набор предложения из контрольной группы, а остальным пользователям предлагать\\n     варианты из тестовой, где средние и медианные траты основной массы пользователей выше.\\n     Таким образом мы получим и сверхвысокодоходных пользователей, которых будет немного, но которые значимо влияют на \\n     общую прибыль, и увеличим прибыль от основной массы базовых пользователей.\\n\\n     '"
      ]
     },
     "execution_count": 109,
     "metadata": {},
     "output_type": "execute_result"
    }
   ],
   "source": [
    "text_2.__doc__"
   ]
  },
  {
   "cell_type": "code",
   "execution_count": null,
   "metadata": {},
   "outputs": [],
   "source": []
  },
  {
   "cell_type": "code",
   "execution_count": 110,
   "metadata": {},
   "outputs": [],
   "source": [
    "# Задание 3\n",
    "# В игре Plants & Gardens каждый месяц проводятся тематические события, ограниченные по времени. В них игроки могут получить \n",
    "# уникальные предметы для сада и персонажей, дополнительные монеты или бонусы. \n",
    "# Для получения награды требуется пройти ряд уровней за определенное время. \n",
    "# С помощью каких метрик можно оценить результаты последнего прошедшего события?\n",
    "\n",
    "# Предположим, в другом событии мы усложнили механику событий так, что при каждой неудачной попытке выполнения уровня игрок\n",
    "# будет откатываться на несколько уровней назад. Изменится ли набор метрик оценки результата? Если да, то как?"
   ]
  },
  {
   "cell_type": "code",
   "execution_count": 111,
   "metadata": {},
   "outputs": [],
   "source": [
    "def text_3():\n",
    "    '''Во время тематического события я бы сняла следующие метрики:\n",
    "    \n",
    "1.Время прохождения доп уровней (делим на п4 и получаем среднее время одной попытки,  делим на п2 и получаем сколько времени\n",
    "  в среднем один игрок пытался получить бонус)\n",
    "2.Количество игроков, которые попытались получить бонус (делим на п3  и получаем долю от активных игроков)\n",
    "3.Количество активных игроков(например, такой расчет 0- игроки, которые загружали игру и провели в ней минимум 10 минут \n",
    "  за последний месяц)\n",
    "4.Количество попыток прохождения доп уровней\n",
    "5.Количество игроков, получивших бонус (делим на п3  и получаем долю от активных игроков)\n",
    "6.Количество удачных и неудачных попыток(делим на п3  и получаем долю от активных игроков)\n",
    "7.Уровень до события (можем посмотреть какого рода игроки принимают участие в событии)\n",
    "8.НОВАЯ МЕТРИКА - Уровень после события (считаем дельту между уровнями до и после тематического события. До эксперимента,\n",
    "  вероятно, уровни были либо неизменны либо естественно росли в ходе прохождения игры, после же эксперимента возможны откаты, \n",
    "  которые нужно зафиксировать)\n",
    "\n",
    "Так как количество пользователей от месяца к месяцу может меняться, рассматривать чистые цифры по количеству пользователей не \n",
    "следует. Необходимо рассчитывать % от активной пользовательской базы в текущем месяце. Средние же данные по времени \n",
    "прохождения уровня, времени проведенного в игре и др, а также средний уровень игроков и  дельту в уровнях игроков сравнивать \n",
    "вполне уместно.\n",
    "\n",
    "Так как раньше пользователи просто не получали доп вещь при неудаче, а теперь лишаются части пройденных уровней, то я бы \n",
    "выделила группу пользователей, которая принимала участие в попытке выиграть бонус по новым правилам, и посмотрела на ее\n",
    "показатели за месяц (лучше 2-3 месяца) до события и месяц сразу после. \n",
    "Также можно сравнить показатели по группам, которые принимали участие в прошлых событиях и рассмотреть месяц после него \n",
    "и группу, которая играла по новым условия и месяц после него.\n",
    "\n",
    "Показатели:\n",
    "    \n",
    "1.Average Session Duration — это среднее время сессий за период времени\n",
    "\n",
    "2.Average Transaction Value — средняя стоимость покупок за период, средний чек\n",
    "  (ATV = Общая сумма покупок / количество покупок)\n",
    "\n",
    "3. Stickiness rate - регулярность использования приложения в течение месяца. \n",
    "   Stickiness rate = DAU / MAU \n",
    "   (DAU/WAU/MAU - количество уникальных пользователей в день/в  неделю/ в месяц). \n",
    "   Просто DAU/WAU/MAU смотреть не имеет большого смысла, тк группы по объему могут отличаться.\n",
    " \n",
    "4. Retention rate - процент клиентов, которые возвращаются в приложение.\n",
    "   Day N Retention измеряет, сколько пользователей возвращается на N-й день после события.\n",
    "\n",
    "5. Churn rate - отток пользователей.\n",
    "   Retention Rate наоборот: 100% − Retention = Churn Rate.\n",
    "\n",
    "6. ARPU/ARPPU средний доход с одного пользователя/платящего пользователя.\n",
    "   ARPU = Выручка с когорты за всё время / количество пользователей в когорте.\n",
    "   ARPPU = Выручка приложения / количество уникальных платящих пользователей.\n",
    "\n",
    "7. Виральность - характеризует степень распространения игры, а также готовность и желание пользователей привлекать своих \n",
    "   знакомых и друзей для совместных развлечений.\n",
    "\n",
    "Часть показателей могла ухудшиться, потому как пользователи могли разочароваться или обидеться за полученный регресс.\n",
    "Либо наоборот, пользователи стали активнее играть и покупать, чтобы нивелировать откат. \n",
    "Также при сравнении с другими месяцами и группами следует учесть сезонность (применит коэффициент, например, чтобы стандартные\n",
    "сезонные изменения не влияли на результат сравнения), ведь показатели не однородны в течение года и меняются \n",
    "по ественственным причинам  при прочих равных условиях.\n",
    "'''\n"
   ]
  },
  {
   "cell_type": "code",
   "execution_count": 10,
   "metadata": {},
   "outputs": [
    {
     "data": {
      "text/plain": [
       "'Во время тематического события я бы сняла следующие метрики:\\n    \\n1.Время прохождения доп уровней (делим на п4 и получаем среднее время одной попытки,  делим на п2 и получаем сколько времени\\n  в среднем один игрок пытался получить бонус)\\n2.Количество игроков, которые попытались получить бонус (делим на п3  и получаем долю от активных игроков)\\n3.Количество активных игроков(например, такой расчет 0- игроки, которые загружали игру и провели в ней минимум 10 минут \\n  за последний месяц)\\n4.Количество попыток прохождения доп уровней\\n5.Количество игроков, получивших бонус (делим на п3  и получаем долю от активных игроков)\\n6.Количество удачных и неудачных попыток(делим на п3  и получаем долю от активных игроков)\\n7.Уровень до события (можем посмотреть какого рода игроки принимают участие в событии)\\n8.НОВАЯ МЕТРИКА - Уровень после события (считаем дельту между уровнями до и после тематического события. До эксперимента,\\n  вероятно, уровни были либо неизменны либо естественно росли в ходе прохождения игры, после же эксперимента возможны откаты, \\n  которые нужно зафиксировать)\\n\\nТак как количество пользователей от месяца к месяцу может меняться, рассматривать чистые цифры по количеству пользователей не \\nследует. Необходимо рассчитывать % от активной пользовательской базы в текущем месяце. Средние же данные по времени \\nпрохождения уровня, времени проведенного в игре и др, а также средний уровень игроков и  дельту в уровнях игроков сравнивать \\nвполне уместно.\\n\\nТак как раньше пользователи просто не получали доп вещь при неудаче, а теперь лишаются части пройденных уровней, то я бы \\nвыделила группу пользователей, которая принимала участие в попытке выиграть бонус по новым правилам, и посмотрела на ее\\nпоказатели за месяц (лучше 2-3 месяца) до события и месяц сразу после. \\nТакже можно сравнить показатели по группам, которые принимали участие в прошлых событиях и рассмотреть месяц после него \\nи группу, которая играла по новым условия и месяц после него.\\n\\nПоказатели:\\n    \\n1.Average Session Duration\\xa0— это среднее время сессий за\\xa0период времени\\n\\n2.Average Transaction Value\\xa0— средняя стоимость покупок за\\xa0период, средний чек\\n  (ATV = Общая сумма покупок\\xa0/ количество покупок)\\n\\n3. Stickiness rate - регулярность использования приложения в\\xa0течение месяца. \\n   Stickiness rate = DAU\\xa0/ MAU \\n   (DAU/WAU/MAU - количество уникальных пользователей в\\xa0день/в  неделю/ в месяц). \\n   Просто DAU/WAU/MAU смотреть не имеет большого смысла, тк группы по объему могут отличаться.\\n \\n4. Retention rate - процент клиентов, которые возвращаются в\\xa0приложение.\\n   Day N Retention измеряет, сколько пользователей возвращается на N-й день после события.\\n\\n5. Churn rate - отток пользователей.\\n   Retention Rate наоборот: 100% − Retention = Churn Rate.\\n\\n6. ARPU/ARPPU средний доход с\\xa0одного пользователя/платящего пользователя.\\n   ARPU = Выручка с\\xa0когорты за\\xa0всё время\\xa0/ количество пользователей в\\xa0когорте.\\n   ARPPU = Выручка приложения\\xa0/ количество уникальных платящих пользователей.\\n\\n7. Виральность - характеризует степень распространения игры, а также готовность и желание пользователей привлекать своих \\n   знакомых и друзей для совместных развлечений.\\n\\nЧасть показателей могла ухудшиться, потому как пользователи могли разочароваться или обидеться за полученный регресс.\\nЛибо наоборот, пользователи стали активнее играть и покупать, чтобы нивелировать откат. \\nТакже при сравнении с другими месяцами и группами следует учесть сезонность (применит коэффициент, например, чтобы стандартные\\nсезонные изменения не влияли на результат сравнения), ведь показатели не однородны в течение года и меняются \\nпо ественственным причинам  при прочих равных условиях.\\n'"
      ]
     },
     "execution_count": 10,
     "metadata": {},
     "output_type": "execute_result"
    }
   ],
   "source": [
    "text_3.__doc__"
   ]
  },
  {
   "cell_type": "code",
   "execution_count": null,
   "metadata": {},
   "outputs": [],
   "source": []
  }
 ],
 "metadata": {
  "kernelspec": {
   "display_name": "Python 3",
   "language": "python",
   "name": "python3"
  },
  "language_info": {
   "codemirror_mode": {
    "name": "ipython",
    "version": 3
   },
   "file_extension": ".py",
   "mimetype": "text/x-python",
   "name": "python",
   "nbconvert_exporter": "python",
   "pygments_lexer": "ipython3",
   "version": "3.7.3"
  }
 },
 "nbformat": 4,
 "nbformat_minor": 4
}
