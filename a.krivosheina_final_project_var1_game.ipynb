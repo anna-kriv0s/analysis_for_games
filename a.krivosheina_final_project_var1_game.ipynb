{
 "cells": [
  {
   "cell_type": "code",
   "execution_count": 1,
   "metadata": {},
   "outputs": [],
   "source": [
    "import numpy as np\n",
    "import pandas as pd\n",
    "import seaborn as sns\n",
    "import matplotlib.pyplot as plt\n",
    "import requests \n",
    "from urllib.parse import urlencode \n",
    "import datetime\n",
    "%matplotlib inline \n",
    "from urllib.parse import urlencode \n",
    "from scipy import stats\n",
    "from scipy.stats import bootstrap"
   ]
  },
  {
   "cell_type": "code",
   "execution_count": 2,
   "metadata": {},
   "outputs": [],
   "source": [
    "# Задание 1\n",
    "# Retention – один из самых важных показателей в компании.\n",
    "# Ваша задача – написать функцию, которая будет считать retention игроков (по дням от даты регистрации игрока). "
   ]
  },
  {
   "cell_type": "code",
   "execution_count": 3,
   "metadata": {},
   "outputs": [],
   "source": [
    "problem1_reg_data = pd.read_csv('/mnt/HC_Volume_18315164/home-jupyter/jupyter-a-krivosheina/shared/problem1-reg_data.csv', sep = ';')\n",
    "problem1_auth_data = pd.read_csv('/mnt/HC_Volume_18315164/home-jupyter/jupyter-a-krivosheina/shared/problem1-auth_data.csv', sep = ';')"
   ]
  },
  {
   "cell_type": "code",
   "execution_count": 4,
   "metadata": {},
   "outputs": [],
   "source": [
    "# Преобразуем даты в формат дат, оставим их на всякий случай, создадим столбцы с датой без времени и объединим два ДФ"
   ]
  },
  {
   "cell_type": "code",
   "execution_count": 5,
   "metadata": {},
   "outputs": [],
   "source": [
    "problem1_reg_data['reg_ts']= pd.to_datetime(problem1_reg_data.reg_ts, unit= 's')\n",
    "problem1_auth_data['auth_ts']= pd.to_datetime(problem1_auth_data.auth_ts, unit= 's')"
   ]
  },
  {
   "cell_type": "code",
   "execution_count": 6,
   "metadata": {},
   "outputs": [],
   "source": [
    "problem1_reg_data['reg_day']= problem1_reg_data.reg_ts.dt.date\n",
    "problem1_auth_data['auth_day']= problem1_auth_data.auth_ts.dt.date"
   ]
  },
  {
   "cell_type": "code",
   "execution_count": 7,
   "metadata": {},
   "outputs": [],
   "source": [
    "data_ex_1 = problem1_auth_data.merge(problem1_reg_data, how = \"left\", on = 'uid' )"
   ]
  },
  {
   "cell_type": "code",
   "execution_count": 8,
   "metadata": {},
   "outputs": [],
   "source": [
    "data_ex_1 = data_ex_1[['uid', 'reg_day', 'auth_day', 'reg_ts', 'auth_ts']]"
   ]
  },
  {
   "cell_type": "code",
   "execution_count": 9,
   "metadata": {},
   "outputs": [],
   "source": [
    "data_ex_1['n_day'] = (data_ex_1['auth_day'] - data_ex_1['reg_day']).dt.days"
   ]
  },
  {
   "cell_type": "code",
   "execution_count": 10,
   "metadata": {},
   "outputs": [
    {
     "data": {
      "text/html": [
       "<div>\n",
       "<style scoped>\n",
       "    .dataframe tbody tr th:only-of-type {\n",
       "        vertical-align: middle;\n",
       "    }\n",
       "\n",
       "    .dataframe tbody tr th {\n",
       "        vertical-align: top;\n",
       "    }\n",
       "\n",
       "    .dataframe thead th {\n",
       "        text-align: right;\n",
       "    }\n",
       "</style>\n",
       "<table border=\"1\" class=\"dataframe\">\n",
       "  <thead>\n",
       "    <tr style=\"text-align: right;\">\n",
       "      <th></th>\n",
       "      <th>uid</th>\n",
       "      <th>reg_day</th>\n",
       "      <th>auth_day</th>\n",
       "      <th>reg_ts</th>\n",
       "      <th>auth_ts</th>\n",
       "      <th>n_day</th>\n",
       "    </tr>\n",
       "  </thead>\n",
       "  <tbody>\n",
       "    <tr>\n",
       "      <th>0</th>\n",
       "      <td>1</td>\n",
       "      <td>1998-11-18</td>\n",
       "      <td>1998-11-18</td>\n",
       "      <td>1998-11-18 09:43:43</td>\n",
       "      <td>1998-11-18 09:43:43</td>\n",
       "      <td>0</td>\n",
       "    </tr>\n",
       "    <tr>\n",
       "      <th>1</th>\n",
       "      <td>2</td>\n",
       "      <td>1999-07-22</td>\n",
       "      <td>1999-07-22</td>\n",
       "      <td>1999-07-22 22:38:09</td>\n",
       "      <td>1999-07-22 22:38:09</td>\n",
       "      <td>0</td>\n",
       "    </tr>\n",
       "    <tr>\n",
       "      <th>2</th>\n",
       "      <td>2</td>\n",
       "      <td>1999-07-22</td>\n",
       "      <td>1999-07-25</td>\n",
       "      <td>1999-07-22 22:38:09</td>\n",
       "      <td>1999-07-25 16:46:46</td>\n",
       "      <td>3</td>\n",
       "    </tr>\n",
       "    <tr>\n",
       "      <th>3</th>\n",
       "      <td>2</td>\n",
       "      <td>1999-07-22</td>\n",
       "      <td>1999-07-31</td>\n",
       "      <td>1999-07-22 22:38:09</td>\n",
       "      <td>1999-07-31 03:50:15</td>\n",
       "      <td>9</td>\n",
       "    </tr>\n",
       "    <tr>\n",
       "      <th>4</th>\n",
       "      <td>2</td>\n",
       "      <td>1999-07-22</td>\n",
       "      <td>1999-08-05</td>\n",
       "      <td>1999-07-22 22:38:09</td>\n",
       "      <td>1999-08-05 17:49:39</td>\n",
       "      <td>14</td>\n",
       "    </tr>\n",
       "    <tr>\n",
       "      <th>...</th>\n",
       "      <td>...</td>\n",
       "      <td>...</td>\n",
       "      <td>...</td>\n",
       "      <td>...</td>\n",
       "      <td>...</td>\n",
       "      <td>...</td>\n",
       "    </tr>\n",
       "    <tr>\n",
       "      <th>9601008</th>\n",
       "      <td>1110618</td>\n",
       "      <td>2020-09-23</td>\n",
       "      <td>2020-09-23</td>\n",
       "      <td>2020-09-23 15:13:54</td>\n",
       "      <td>2020-09-23 15:13:54</td>\n",
       "      <td>0</td>\n",
       "    </tr>\n",
       "    <tr>\n",
       "      <th>9601009</th>\n",
       "      <td>1110619</td>\n",
       "      <td>2020-09-23</td>\n",
       "      <td>2020-09-23</td>\n",
       "      <td>2020-09-23 15:14:46</td>\n",
       "      <td>2020-09-23 15:14:46</td>\n",
       "      <td>0</td>\n",
       "    </tr>\n",
       "    <tr>\n",
       "      <th>9601010</th>\n",
       "      <td>1110620</td>\n",
       "      <td>2020-09-23</td>\n",
       "      <td>2020-09-23</td>\n",
       "      <td>2020-09-23 15:15:39</td>\n",
       "      <td>2020-09-23 15:15:39</td>\n",
       "      <td>0</td>\n",
       "    </tr>\n",
       "    <tr>\n",
       "      <th>9601011</th>\n",
       "      <td>1110621</td>\n",
       "      <td>2020-09-23</td>\n",
       "      <td>2020-09-23</td>\n",
       "      <td>2020-09-23 15:16:31</td>\n",
       "      <td>2020-09-23 15:16:31</td>\n",
       "      <td>0</td>\n",
       "    </tr>\n",
       "    <tr>\n",
       "      <th>9601012</th>\n",
       "      <td>1110622</td>\n",
       "      <td>2020-09-23</td>\n",
       "      <td>2020-09-23</td>\n",
       "      <td>2020-09-23 15:17:24</td>\n",
       "      <td>2020-09-23 15:17:24</td>\n",
       "      <td>0</td>\n",
       "    </tr>\n",
       "  </tbody>\n",
       "</table>\n",
       "<p>9601013 rows × 6 columns</p>\n",
       "</div>"
      ],
      "text/plain": [
       "             uid     reg_day    auth_day              reg_ts  \\\n",
       "0              1  1998-11-18  1998-11-18 1998-11-18 09:43:43   \n",
       "1              2  1999-07-22  1999-07-22 1999-07-22 22:38:09   \n",
       "2              2  1999-07-22  1999-07-25 1999-07-22 22:38:09   \n",
       "3              2  1999-07-22  1999-07-31 1999-07-22 22:38:09   \n",
       "4              2  1999-07-22  1999-08-05 1999-07-22 22:38:09   \n",
       "...          ...         ...         ...                 ...   \n",
       "9601008  1110618  2020-09-23  2020-09-23 2020-09-23 15:13:54   \n",
       "9601009  1110619  2020-09-23  2020-09-23 2020-09-23 15:14:46   \n",
       "9601010  1110620  2020-09-23  2020-09-23 2020-09-23 15:15:39   \n",
       "9601011  1110621  2020-09-23  2020-09-23 2020-09-23 15:16:31   \n",
       "9601012  1110622  2020-09-23  2020-09-23 2020-09-23 15:17:24   \n",
       "\n",
       "                    auth_ts  n_day  \n",
       "0       1998-11-18 09:43:43      0  \n",
       "1       1999-07-22 22:38:09      0  \n",
       "2       1999-07-25 16:46:46      3  \n",
       "3       1999-07-31 03:50:15      9  \n",
       "4       1999-08-05 17:49:39     14  \n",
       "...                     ...    ...  \n",
       "9601008 2020-09-23 15:13:54      0  \n",
       "9601009 2020-09-23 15:14:46      0  \n",
       "9601010 2020-09-23 15:15:39      0  \n",
       "9601011 2020-09-23 15:16:31      0  \n",
       "9601012 2020-09-23 15:17:24      0  \n",
       "\n",
       "[9601013 rows x 6 columns]"
      ]
     },
     "execution_count": 10,
     "metadata": {},
     "output_type": "execute_result"
    }
   ],
   "source": [
    "data_ex_1"
   ]
  },
  {
   "cell_type": "code",
   "execution_count": 11,
   "metadata": {
    "scrolled": true
   },
   "outputs": [
    {
     "data": {
      "text/plain": [
       "uid                  int64\n",
       "reg_day             object\n",
       "auth_day            object\n",
       "reg_ts      datetime64[ns]\n",
       "auth_ts     datetime64[ns]\n",
       "n_day                int64\n",
       "dtype: object"
      ]
     },
     "execution_count": 11,
     "metadata": {},
     "output_type": "execute_result"
    }
   ],
   "source": [
    "data_ex_1.dtypes"
   ]
  },
  {
   "cell_type": "code",
   "execution_count": 12,
   "metadata": {},
   "outputs": [
    {
     "data": {
      "text/plain": [
       "datetime.date(1998, 11, 18)"
      ]
     },
     "execution_count": 12,
     "metadata": {},
     "output_type": "execute_result"
    }
   ],
   "source": [
    "data_ex_1.reg_day.min()"
   ]
  },
  {
   "cell_type": "code",
   "execution_count": 13,
   "metadata": {},
   "outputs": [],
   "source": [
    "# Чтобы выбрать для каких пользователей мы считаем retention, необходимо указать значение в переменной enter_day_reg"
   ]
  },
  {
   "cell_type": "code",
   "execution_count": 14,
   "metadata": {},
   "outputs": [],
   "source": [
    "enter_day_reg = datetime.date(2020, 9, 10)\n",
    "\n",
    "# ВВОДИМ НУЖНУЮ ДАТУ РЕГИСТРАЦИИ, ЧТОБЫ ВЫБРАТЬ ПОЛЬЗОВАТЕЛЕЙ \n",
    "# ЕСЛИ ПОСТАВИТЬ В РАСЧЕТЕ sample_enter_day_reg  ВМЕСТО ==    > ИЛИ < , ТО СООТВЕТСВЕННО БОЛЬШЕ ИЛИ МЕНЬШЕ УКАЗАННОЙ ДАТЫ РЕГИСТРАЦИИ.\n",
    "# ДЛЯ ВЫВОДА ПО ВСЕМУ ДФ НЕОБХОДИМО ПОСТАВИТЬ ДАТУ (1998, 11, 17)."
   ]
  },
  {
   "cell_type": "code",
   "execution_count": 15,
   "metadata": {},
   "outputs": [],
   "source": [
    "sample_enter_day_reg = data_ex_1.loc[lambda problem1_reg_data: problem1_reg_data['reg_day']== enter_day_reg]"
   ]
  },
  {
   "cell_type": "code",
   "execution_count": 16,
   "metadata": {},
   "outputs": [],
   "source": [
    "data_delta_part = data_ex_1.n_day.max() + 1\n",
    "data_delta_list_part = list(range(0,data_delta_part))\n",
    "\n",
    "def calc_retention_part(sample_enter_day_reg, data_delta_list_part):\n",
    "    retention_part = []\n",
    "    all_cust_part = sample_enter_day_reg.uid.nunique()\n",
    "\n",
    "    for day in data_delta_list_part:\n",
    "        auth_day_cust_part = sample_enter_day_reg.loc[lambda sample_enter_day_reg: sample_enter_day_reg['n_day'] == day].uid.nunique()\n",
    "        \n",
    "        \n",
    "        if all_cust_part !=0:\n",
    "            retention_calc_part = round(auth_day_cust_part/all_cust_part*100, 2)\n",
    "            \n",
    "        else:\n",
    "            retention_calc_part = 0\n",
    "            \n",
    "        retention_part.append(retention_calc_part)\n",
    "        \n",
    "    return retention_part"
   ]
  },
  {
   "cell_type": "code",
   "execution_count": 17,
   "metadata": {},
   "outputs": [],
   "source": [
    "lst_retention_part = calc_retention_part(sample_enter_day_reg, data_delta_list_part)"
   ]
  },
  {
   "cell_type": "code",
   "execution_count": 18,
   "metadata": {},
   "outputs": [],
   "source": [
    "data_retention_part = []\n",
    "data_retention_part.append(data_delta_list_part)\n",
    "data_retention_part.append(lst_retention_part)"
   ]
  },
  {
   "cell_type": "code",
   "execution_count": 19,
   "metadata": {},
   "outputs": [],
   "source": [
    "data_retention_part_df = pd.DataFrame(data_retention_part).transpose ()\n",
    "data_retention_part_df.columns =['n_day', 'retention']\n",
    "data_retention_part_df['n_day'] =  data_retention_part_df.n_day.astype('int64')"
   ]
  },
  {
   "cell_type": "code",
   "execution_count": 20,
   "metadata": {},
   "outputs": [
    {
     "data": {
      "text/html": [
       "<div>\n",
       "<style scoped>\n",
       "    .dataframe tbody tr th:only-of-type {\n",
       "        vertical-align: middle;\n",
       "    }\n",
       "\n",
       "    .dataframe tbody tr th {\n",
       "        vertical-align: top;\n",
       "    }\n",
       "\n",
       "    .dataframe thead th {\n",
       "        text-align: right;\n",
       "    }\n",
       "</style>\n",
       "<table border=\"1\" class=\"dataframe\">\n",
       "  <thead>\n",
       "    <tr style=\"text-align: right;\">\n",
       "      <th></th>\n",
       "      <th>n_day</th>\n",
       "      <th>retention</th>\n",
       "    </tr>\n",
       "  </thead>\n",
       "  <tbody>\n",
       "    <tr>\n",
       "      <th>0</th>\n",
       "      <td>0</td>\n",
       "      <td>100.00</td>\n",
       "    </tr>\n",
       "    <tr>\n",
       "      <th>1</th>\n",
       "      <td>1</td>\n",
       "      <td>2.05</td>\n",
       "    </tr>\n",
       "    <tr>\n",
       "      <th>2</th>\n",
       "      <td>2</td>\n",
       "      <td>4.29</td>\n",
       "    </tr>\n",
       "    <tr>\n",
       "      <th>3</th>\n",
       "      <td>3</td>\n",
       "      <td>4.79</td>\n",
       "    </tr>\n",
       "    <tr>\n",
       "      <th>4</th>\n",
       "      <td>4</td>\n",
       "      <td>4.23</td>\n",
       "    </tr>\n",
       "    <tr>\n",
       "      <th>...</th>\n",
       "      <td>...</td>\n",
       "      <td>...</td>\n",
       "    </tr>\n",
       "    <tr>\n",
       "      <th>7725</th>\n",
       "      <td>7725</td>\n",
       "      <td>0.00</td>\n",
       "    </tr>\n",
       "    <tr>\n",
       "      <th>7726</th>\n",
       "      <td>7726</td>\n",
       "      <td>0.00</td>\n",
       "    </tr>\n",
       "    <tr>\n",
       "      <th>7727</th>\n",
       "      <td>7727</td>\n",
       "      <td>0.00</td>\n",
       "    </tr>\n",
       "    <tr>\n",
       "      <th>7728</th>\n",
       "      <td>7728</td>\n",
       "      <td>0.00</td>\n",
       "    </tr>\n",
       "    <tr>\n",
       "      <th>7729</th>\n",
       "      <td>7729</td>\n",
       "      <td>0.00</td>\n",
       "    </tr>\n",
       "  </tbody>\n",
       "</table>\n",
       "<p>7730 rows × 2 columns</p>\n",
       "</div>"
      ],
      "text/plain": [
       "      n_day  retention\n",
       "0         0     100.00\n",
       "1         1       2.05\n",
       "2         2       4.29\n",
       "3         3       4.79\n",
       "4         4       4.23\n",
       "...     ...        ...\n",
       "7725   7725       0.00\n",
       "7726   7726       0.00\n",
       "7727   7727       0.00\n",
       "7728   7728       0.00\n",
       "7729   7729       0.00\n",
       "\n",
       "[7730 rows x 2 columns]"
      ]
     },
     "execution_count": 20,
     "metadata": {},
     "output_type": "execute_result"
    }
   ],
   "source": [
    "data_retention_part_df"
   ]
  },
  {
   "cell_type": "code",
   "execution_count": null,
   "metadata": {},
   "outputs": [],
   "source": []
  },
  {
   "cell_type": "code",
   "execution_count": 21,
   "metadata": {},
   "outputs": [],
   "source": [
    "# Задание 2\n",
    "# Имеются результаты A/B теста, в котором двум группам пользователей предлагались различные наборы акционных предложений.\n",
    "# Известно, что ARPU в тестовой группе выше на 5%, чем в контрольной.\n",
    "# При этом в контрольной группе 1928 игроков из 202103 оказались платящими, а в тестовой – 1805 из 202667.\n",
    "\n",
    "# Какой набор предложений можно считать лучшим? Какие метрики стоит проанализировать для принятия правильного решения и как?"
   ]
  },
  {
   "cell_type": "code",
   "execution_count": 22,
   "metadata": {},
   "outputs": [],
   "source": [
    "# используем api \n",
    "base_url = 'https://cloud-api.yandex.net/v1/disk/public/resources/download?' \n",
    "public_key = 'https://disk.yandex.ru/d/SOkIsD5A8xlI7Q' \n",
    " \n",
    "# получаем url \n",
    "final_url = base_url + urlencode(dict(public_key=public_key)) \n",
    "response = requests.get(final_url) \n",
    "download_url = response.json()['href'] \n",
    " \n",
    "# загружаем файл в df \n",
    "download_response = requests.get(download_url) \n",
    "data_ex_2 = pd.read_csv(download_url, sep = ';') "
   ]
  },
  {
   "cell_type": "code",
   "execution_count": 23,
   "metadata": {},
   "outputs": [
    {
     "data": {
      "text/html": [
       "<div>\n",
       "<style scoped>\n",
       "    .dataframe tbody tr th:only-of-type {\n",
       "        vertical-align: middle;\n",
       "    }\n",
       "\n",
       "    .dataframe tbody tr th {\n",
       "        vertical-align: top;\n",
       "    }\n",
       "\n",
       "    .dataframe thead th {\n",
       "        text-align: right;\n",
       "    }\n",
       "</style>\n",
       "<table border=\"1\" class=\"dataframe\">\n",
       "  <thead>\n",
       "    <tr style=\"text-align: right;\">\n",
       "      <th></th>\n",
       "      <th>testgroup</th>\n",
       "      <th>revenue</th>\n",
       "    </tr>\n",
       "  </thead>\n",
       "  <tbody>\n",
       "    <tr>\n",
       "      <th>0</th>\n",
       "      <td>a</td>\n",
       "      <td>202103</td>\n",
       "    </tr>\n",
       "    <tr>\n",
       "      <th>1</th>\n",
       "      <td>b</td>\n",
       "      <td>202667</td>\n",
       "    </tr>\n",
       "  </tbody>\n",
       "</table>\n",
       "</div>"
      ],
      "text/plain": [
       "  testgroup  revenue\n",
       "0         a   202103\n",
       "1         b   202667"
      ]
     },
     "execution_count": 23,
     "metadata": {},
     "output_type": "execute_result"
    }
   ],
   "source": [
    "data_ex_2.groupby('testgroup', as_index = False) \\\n",
    "         .agg({'revenue':'count'})"
   ]
  },
  {
   "cell_type": "code",
   "execution_count": 24,
   "metadata": {},
   "outputs": [],
   "source": [
    "# Размер тестровой и контрольной группы практически равны (тестровая больше на 0,3%)"
   ]
  },
  {
   "cell_type": "code",
   "execution_count": 25,
   "metadata": {},
   "outputs": [
    {
     "data": {
      "text/html": [
       "<div>\n",
       "<style scoped>\n",
       "    .dataframe tbody tr th:only-of-type {\n",
       "        vertical-align: middle;\n",
       "    }\n",
       "\n",
       "    .dataframe tbody tr th {\n",
       "        vertical-align: top;\n",
       "    }\n",
       "\n",
       "    .dataframe thead th {\n",
       "        text-align: right;\n",
       "    }\n",
       "</style>\n",
       "<table border=\"1\" class=\"dataframe\">\n",
       "  <thead>\n",
       "    <tr style=\"text-align: right;\">\n",
       "      <th></th>\n",
       "      <th>testgroup</th>\n",
       "      <th>revenue</th>\n",
       "    </tr>\n",
       "  </thead>\n",
       "  <tbody>\n",
       "    <tr>\n",
       "      <th>0</th>\n",
       "      <td>a</td>\n",
       "      <td>5136189</td>\n",
       "    </tr>\n",
       "    <tr>\n",
       "      <th>1</th>\n",
       "      <td>b</td>\n",
       "      <td>5421603</td>\n",
       "    </tr>\n",
       "  </tbody>\n",
       "</table>\n",
       "</div>"
      ],
      "text/plain": [
       "  testgroup  revenue\n",
       "0         a  5136189\n",
       "1         b  5421603"
      ]
     },
     "execution_count": 25,
     "metadata": {},
     "output_type": "execute_result"
    }
   ],
   "source": [
    "data_ex_2.groupby('testgroup', as_index = False) \\\n",
    "         .agg({'revenue':'sum'})"
   ]
  },
  {
   "cell_type": "code",
   "execution_count": 26,
   "metadata": {},
   "outputs": [],
   "source": [
    " # Суммарная прибыль от пользователей тестовой группы больше на 5 %"
   ]
  },
  {
   "cell_type": "code",
   "execution_count": 27,
   "metadata": {},
   "outputs": [],
   "source": [
    "data_ex_2_not_0 = data_ex_2.query('revenue > 0')"
   ]
  },
  {
   "cell_type": "code",
   "execution_count": 28,
   "metadata": {},
   "outputs": [
    {
     "data": {
      "text/html": [
       "<div>\n",
       "<style scoped>\n",
       "    .dataframe tbody tr th:only-of-type {\n",
       "        vertical-align: middle;\n",
       "    }\n",
       "\n",
       "    .dataframe tbody tr th {\n",
       "        vertical-align: top;\n",
       "    }\n",
       "\n",
       "    .dataframe thead th {\n",
       "        text-align: right;\n",
       "    }\n",
       "</style>\n",
       "<table border=\"1\" class=\"dataframe\">\n",
       "  <thead>\n",
       "    <tr style=\"text-align: right;\">\n",
       "      <th></th>\n",
       "      <th>testgroup</th>\n",
       "      <th>revenue</th>\n",
       "    </tr>\n",
       "  </thead>\n",
       "  <tbody>\n",
       "    <tr>\n",
       "      <th>0</th>\n",
       "      <td>a</td>\n",
       "      <td>1928</td>\n",
       "    </tr>\n",
       "    <tr>\n",
       "      <th>1</th>\n",
       "      <td>b</td>\n",
       "      <td>1805</td>\n",
       "    </tr>\n",
       "  </tbody>\n",
       "</table>\n",
       "</div>"
      ],
      "text/plain": [
       "  testgroup  revenue\n",
       "0         a     1928\n",
       "1         b     1805"
      ]
     },
     "execution_count": 28,
     "metadata": {},
     "output_type": "execute_result"
    }
   ],
   "source": [
    "data_ex_2_not_0.groupby('testgroup', as_index = False) \\\n",
    "               .agg({'revenue':'count'})"
   ]
  },
  {
   "cell_type": "code",
   "execution_count": 29,
   "metadata": {},
   "outputs": [],
   "source": [
    "# платящих пользователей в контрольной группе a, больше на 6% , чем в тестовой группе b "
   ]
  },
  {
   "cell_type": "code",
   "execution_count": 30,
   "metadata": {},
   "outputs": [
    {
     "data": {
      "text/plain": [
       "0.95"
      ]
     },
     "execution_count": 30,
     "metadata": {},
     "output_type": "execute_result"
    }
   ],
   "source": [
    "cr_a_perc = data_ex_2.query('testgroup == \"a\" & revenue > 0').testgroup.count()/data_ex_2.query('testgroup == \"a\"').testgroup.count()*100\n",
    "cr_a_perc.round(2)\n",
    "# CR в контрольной группе 0.95 %"
   ]
  },
  {
   "cell_type": "code",
   "execution_count": 31,
   "metadata": {},
   "outputs": [
    {
     "data": {
      "text/plain": [
       "0.89"
      ]
     },
     "execution_count": 31,
     "metadata": {},
     "output_type": "execute_result"
    }
   ],
   "source": [
    "cr_b_perc = data_ex_2.query('testgroup == \"b\" & revenue > 0').testgroup.count()/data_ex_2.query('testgroup == \"b\"').testgroup.count()*100\n",
    "cr_b_perc.round(2)\n",
    "\n",
    "# CR в тестовой группе 0.89 %"
   ]
  },
  {
   "cell_type": "code",
   "execution_count": 32,
   "metadata": {},
   "outputs": [],
   "source": [
    "# То есть в контрольной группе бОльшая доля пользователей воспользовалась акционным предложением (на 0,06 %)"
   ]
  },
  {
   "cell_type": "code",
   "execution_count": 33,
   "metadata": {},
   "outputs": [
    {
     "data": {
      "text/html": [
       "<div>\n",
       "<style scoped>\n",
       "    .dataframe tbody tr th:only-of-type {\n",
       "        vertical-align: middle;\n",
       "    }\n",
       "\n",
       "    .dataframe tbody tr th {\n",
       "        vertical-align: top;\n",
       "    }\n",
       "\n",
       "    .dataframe thead th {\n",
       "        text-align: right;\n",
       "    }\n",
       "</style>\n",
       "<table border=\"1\" class=\"dataframe\">\n",
       "  <thead>\n",
       "    <tr style=\"text-align: right;\">\n",
       "      <th></th>\n",
       "      <th>testgroup</th>\n",
       "      <th>revenue</th>\n",
       "    </tr>\n",
       "  </thead>\n",
       "  <tbody>\n",
       "    <tr>\n",
       "      <th>0</th>\n",
       "      <td>a</td>\n",
       "      <td>2664.0</td>\n",
       "    </tr>\n",
       "    <tr>\n",
       "      <th>1</th>\n",
       "      <td>b</td>\n",
       "      <td>3004.0</td>\n",
       "    </tr>\n",
       "  </tbody>\n",
       "</table>\n",
       "</div>"
      ],
      "text/plain": [
       "  testgroup  revenue\n",
       "0         a   2664.0\n",
       "1         b   3004.0"
      ]
     },
     "execution_count": 33,
     "metadata": {},
     "output_type": "execute_result"
    }
   ],
   "source": [
    "data_ex_2_not_0.groupby('testgroup', as_index = False) \\\n",
    "               .agg({'revenue':'mean'}) \\\n",
    "               .round(0)"
   ]
  },
  {
   "cell_type": "code",
   "execution_count": 34,
   "metadata": {},
   "outputs": [],
   "source": [
    "# ARPPU в тестовой группе (b) выше на 11 %, чем в контрольной (a)"
   ]
  },
  {
   "cell_type": "code",
   "execution_count": 35,
   "metadata": {},
   "outputs": [],
   "source": [
    "sample_a = data_ex_2.query('testgroup == \"a\" & revenue > 0').revenue # контрольная групп, платящие пользователи"
   ]
  },
  {
   "cell_type": "code",
   "execution_count": 36,
   "metadata": {},
   "outputs": [],
   "source": [
    "sample_b = data_ex_2.query('testgroup == \"b\" & revenue > 0').revenue # тестовая группа, платящие пользователи"
   ]
  },
  {
   "cell_type": "code",
   "execution_count": 37,
   "metadata": {},
   "outputs": [],
   "source": [
    "# чтобы использовать t- тест, необходимо проверить выборки на гомогенность дисперсий и нормальность"
   ]
  },
  {
   "cell_type": "code",
   "execution_count": 38,
   "metadata": {},
   "outputs": [
    {
     "data": {
      "text/plain": [
       "LeveneResult(statistic=445.9869447066088, pvalue=1.3202514573715939e-93)"
      ]
     },
     "execution_count": 38,
     "metadata": {},
     "output_type": "execute_result"
    }
   ],
   "source": [
    "stats.levene(sample_a, sample_b, center='mean')"
   ]
  },
  {
   "cell_type": "code",
   "execution_count": 39,
   "metadata": {},
   "outputs": [],
   "source": [
    "# p-значение составляет менее 0,05 \n",
    "# Это ознаяает, что требование гомогенности дисперсий не выполняется, поэтому t- тест использовать не получится"
   ]
  },
  {
   "cell_type": "code",
   "execution_count": 40,
   "metadata": {},
   "outputs": [
    {
     "data": {
      "text/html": [
       "<div>\n",
       "<style scoped>\n",
       "    .dataframe tbody tr th:only-of-type {\n",
       "        vertical-align: middle;\n",
       "    }\n",
       "\n",
       "    .dataframe tbody tr th {\n",
       "        vertical-align: top;\n",
       "    }\n",
       "\n",
       "    .dataframe thead th {\n",
       "        text-align: right;\n",
       "    }\n",
       "</style>\n",
       "<table border=\"1\" class=\"dataframe\">\n",
       "  <thead>\n",
       "    <tr style=\"text-align: right;\">\n",
       "      <th></th>\n",
       "      <th>testgroup</th>\n",
       "      <th>revenue</th>\n",
       "    </tr>\n",
       "  </thead>\n",
       "  <tbody>\n",
       "    <tr>\n",
       "      <th>0</th>\n",
       "      <td>a</td>\n",
       "      <td>311</td>\n",
       "    </tr>\n",
       "    <tr>\n",
       "      <th>1</th>\n",
       "      <td>b</td>\n",
       "      <td>3022</td>\n",
       "    </tr>\n",
       "  </tbody>\n",
       "</table>\n",
       "</div>"
      ],
      "text/plain": [
       "  testgroup  revenue\n",
       "0         a      311\n",
       "1         b     3022"
      ]
     },
     "execution_count": 40,
     "metadata": {},
     "output_type": "execute_result"
    }
   ],
   "source": [
    "data_ex_2_not_0.groupby('testgroup', as_index = False) \\\n",
    "               .agg({'revenue':np.median}) \\\n",
    "               .round(0)"
   ]
  },
  {
   "cell_type": "code",
   "execution_count": 41,
   "metadata": {},
   "outputs": [],
   "source": [
    "# медианные траты по платящим пользователям в тестовой группе (b) почти в 10 раз выше, чем в контрольной"
   ]
  },
  {
   "cell_type": "code",
   "execution_count": 42,
   "metadata": {},
   "outputs": [],
   "source": [
    "# Посмотрим как выглядят выборки на графике"
   ]
  },
  {
   "cell_type": "code",
   "execution_count": 43,
   "metadata": {},
   "outputs": [
    {
     "data": {
      "text/plain": [
       "<seaborn.axisgrid.FacetGrid at 0x7f9b50fbe1d0>"
      ]
     },
     "execution_count": 43,
     "metadata": {},
     "output_type": "execute_result"
    },
    {
     "data": {
      "image/png": "[encoded data removed]",
      "text/plain": [
       "<Figure size 416x360 with 1 Axes>"
      ]
     },
     "metadata": {
      "needs_background": "light"
     },
     "output_type": "display_data"
    }
   ],
   "source": [
    "sns.displot(data=data_ex_2_not_0, x=\"revenue\", hue=\"testgroup\")"
   ]
  },
  {
   "cell_type": "code",
   "execution_count": 44,
   "metadata": {},
   "outputs": [],
   "source": [
    "# контрольная выборка (a) крайне неоднородна"
   ]
  },
  {
   "cell_type": "code",
   "execution_count": 45,
   "metadata": {},
   "outputs": [
    {
     "data": {
      "text/plain": [
       "123"
      ]
     },
     "execution_count": 45,
     "metadata": {},
     "output_type": "execute_result"
    }
   ],
   "source": [
    "data_ex_2_not_0.query('testgroup == \"a\" & revenue > 37000').revenue.count() \n",
    "# в контрольной выборке 6 % (123 из 1928) составляют траты суммой более 37 000"
   ]
  },
  {
   "cell_type": "code",
   "execution_count": 46,
   "metadata": {},
   "outputs": [
    {
     "data": {
      "text/plain": [
       "4590252"
      ]
     },
     "execution_count": 46,
     "metadata": {},
     "output_type": "execute_result"
    }
   ],
   "source": [
    "data_ex_2_not_0.query('testgroup == \"a\" & revenue > 37000').revenue.sum() \n",
    "# и при этом составляют 89 % от всех потраченных средств от пользователей контрольной группы (4 590 252 из 5 136 189)"
   ]
  },
  {
   "cell_type": "code",
   "execution_count": 47,
   "metadata": {},
   "outputs": [
    {
     "data": {
      "text/plain": [
       "1805"
      ]
     },
     "execution_count": 47,
     "metadata": {},
     "output_type": "execute_result"
    }
   ],
   "source": [
    "data_ex_2_not_0.query('testgroup == \"a\" & revenue < 450').revenue.count() \n",
    "# основная же часть контрольной выборки (94%) значений лежит в интервале от 200 до 450"
   ]
  },
  {
   "cell_type": "code",
   "execution_count": 48,
   "metadata": {},
   "outputs": [
    {
     "data": {
      "text/plain": [
       "545937"
      ]
     },
     "execution_count": 48,
     "metadata": {},
     "output_type": "execute_result"
    }
   ],
   "source": [
    "data_ex_2_not_0.query('testgroup == \"a\" & revenue < 450').revenue.sum() \n",
    "# и при этом составляют 11 % от всех потраченных средств от пользователей контрольной группы (545 937 из 5 136 189)"
   ]
  },
  {
   "cell_type": "code",
   "execution_count": 49,
   "metadata": {},
   "outputs": [],
   "source": [
    "# чтобы оценить статистическую значимость различий в медианах применяем bootstrap"
   ]
  },
  {
   "cell_type": "code",
   "execution_count": 50,
   "metadata": {},
   "outputs": [],
   "source": [
    "a_df = data_ex_2_not_0.query('testgroup == \"a\"')\n",
    "b_df = data_ex_2_not_0.query('testgroup == \"b\"')\n",
    "\n",
    "median_diff = []\n",
    "\n",
    "for i in range(10000):\n",
    "    sample_data_a = a_df.sample(frac=1, replace=True)\n",
    "    sample_median_a = sample_data_a.revenue.median()\n",
    "    \n",
    "    \n",
    "    sample_data_b = b_df.sample(frac=1, replace=True)\n",
    "    sample_median_b = sample_data_b.revenue.median()\n",
    "    \n",
    "    \n",
    "    sample_median_diff = sample_median_a - sample_median_b\n",
    "    median_diff.append(sample_median_diff)"
   ]
  },
  {
   "cell_type": "code",
   "execution_count": 51,
   "metadata": {},
   "outputs": [
    {
     "data": {
      "text/plain": [
       "-2761.0"
      ]
     },
     "execution_count": 51,
     "metadata": {},
     "output_type": "execute_result"
    }
   ],
   "source": [
    "pd.Series(median_diff).quantile(0.025)"
   ]
  },
  {
   "cell_type": "code",
   "execution_count": 52,
   "metadata": {},
   "outputs": [
    {
     "data": {
      "text/plain": [
       "-2658.0"
      ]
     },
     "execution_count": 52,
     "metadata": {},
     "output_type": "execute_result"
    }
   ],
   "source": [
    "pd.Series(median_diff).quantile(0.975)"
   ]
  },
  {
   "cell_type": "code",
   "execution_count": 53,
   "metadata": {},
   "outputs": [],
   "source": [
    "# медианы стазначимо отличаются, т.е. экспиримент повлиял на траты пользователей"
   ]
  },
  {
   "cell_type": "code",
   "execution_count": null,
   "metadata": {},
   "outputs": [],
   "source": []
  },
  {
   "cell_type": "code",
   "execution_count": 54,
   "metadata": {},
   "outputs": [],
   "source": [
    "# Какие выводы можно сделать?"
   ]
  },
  {
   "cell_type": "code",
   "execution_count": 55,
   "metadata": {},
   "outputs": [],
   "source": [
    "# Если сравнивать две группы пользователей, то для бизнеса удобнее иметь вариант b, потому что все пользователи платят \n",
    "# плюс/минус одинаково и потеря одного пользователя не приведет к существенному проседанию общей прибыли. \n",
    "# То есть вариант b (тестовая группа) более надежный."
   ]
  },
  {
   "cell_type": "code",
   "execution_count": 56,
   "metadata": {},
   "outputs": [],
   "source": [
    "# А чтобы доходы были максимальны необходимо проанализировать клиентов и их предложения с тратами более 37 000\n",
    "# и попробовать на аналогичных пользователях применить предложения из контрольной группы, а остальным пользователям предлагать\n",
    "# варианты из тестовой, где средние и медианные траты основной массы пользователей выше.\n",
    "\n",
    "# Таким образом мы получим и сверхвысокодоходных пользователей, которых будет немного, но которые значимо влияют на \n",
    "# общую прибыль, и увеличим прибыль от основной массы базовых пользователей"
   ]
  },
  {
   "cell_type": "code",
   "execution_count": null,
   "metadata": {},
   "outputs": [],
   "source": []
  },
  {
   "cell_type": "code",
   "execution_count": 57,
   "metadata": {},
   "outputs": [],
   "source": [
    "# Задание 3\n",
    "# В игре Plants & Gardens каждый месяц проводятся тематические события, ограниченные по времени. В них игроки могут получить \n",
    "# уникальные предметы для сада и персонажей, дополнительные монеты или бонусы. \n",
    "# Для получения награды требуется пройти ряд уровней за определенное время. \n",
    "# С помощью каких метрик можно оценить результаты последнего прошедшего события?\n",
    "\n",
    "# Предположим, в другом событии мы усложнили механику событий так, что при каждой неудачной попытке выполнения уровня игрок\n",
    "# будет откатываться на несколько уровней назад. Изменится ли набор метрик оценки результата? Если да, то как?"
   ]
  },
  {
   "cell_type": "code",
   "execution_count": null,
   "metadata": {},
   "outputs": [],
   "source": [
    "# Во время тематического события я бы сняла следующие метрики:\n",
    "    \n",
    "# 1.Время прохождения доп уровней (делим на п4 и получаем среднее время одной попытки,  делим на п2 и получаем сколько времени\n",
    "#   в среднем один игрок пытался получить бонус)\n",
    "# 2.Количество игроков, которые попытались получить бонус (делим на п3  и получаем долю от активных игроков)\n",
    "# 3.Количество активных игроков(например, такой расчет 0- игроки, которые загружали игру и провели в ней минимум 10 минут \n",
    "#   за последний месяц)\n",
    "# 4.Количество попыток прохождения доп уровней\n",
    "# 5.Количество игроков, получивших бонус (делим на п3  и получаем долю от активных игроков)\n",
    "# 6.Количество удачных и неудачных попыток(делим на п3  и получаем долю от активных игроков)\n",
    "# 7.Уровень до события (можем посмотреть какого рода игроки принимают участие в событии)\n",
    "# 8.НОВАЯ МЕТРИКА - Уровень после события (считаем дельту между уровнями до и после тематического события. До эксперимента,\n",
    "#   вероятно, уровни были либо неизменны либо естественно росли в ходе прохождения игры, после же эксперимента возможны откаты, \n",
    "#   которые нужно зафиксировать)\n",
    "\n",
    "# Так как количество пользователей от месяца к месяцу может меняться, рассматривать чистые цифры по количеству пользователей не \n",
    "# следует. Необходимо рассчитывать % от активной пользовательской базы в текущем месяце. Средние же данные по времени \n",
    "# прохождения уровня, времени проведенного в игре и др, а также средний уровень игроков и  дельту в уровнях игроков сравнивать \n",
    "# вполне уместно.\n",
    "\n",
    "# Так как раньше пользователи просто не получали доп вещь при неудаче, а теперь лишаются части пройденных уровней, то я бы \n",
    "# выделила группу пользователей, которая принимала участие в попытке выиграть бонус по новым правилам, и посмотрела на ее\n",
    "# показатели за месяц (лучше 2-3 месяца) до события и месяц сразу после. \n",
    "# Также можно сравнить показатели по группам, которые принимали участие в прошлых событиях и рассмотреть месяц после него \n",
    "# и группу, которая играла по новым условия и месяц после него.\n",
    "\n",
    "# Показатели:\n",
    "    \n",
    "# 1.Average Session Duration — это среднее время сессий за период времени\n",
    "\n",
    "# 2.Average Transaction Value — средняя стоимость покупок за период, средний чек\n",
    "#   (ATV = Общая сумма покупок / количество покупок)\n",
    "\n",
    "# 3. Stickiness rate - регулярность использования приложения в течение месяца. \n",
    "#    Stickiness rate = DAU / MAU \n",
    "#    (DAU/WAU/MAU - количество уникальных пользователей в день/в  неделю/ в месяц). \n",
    "#    Просто DAU/WAU/MAU смотреть не имеет большого смысла, тк группы по объему могут отличаться.\n",
    " \n",
    "# 4. Retention rate - процент клиентов, которые возвращаются в приложение.\n",
    "#    Day N Retention измеряет, сколько пользователей возвращается на N-й день после события.\n",
    "\n",
    "# 5. Churn rate - отток пользователей.\n",
    "#    Retention Rate наоборот: 100% − Retention = Churn Rate.\n",
    "\n",
    "# 6. ARPU/ARPPU средний доход с одного пользователя/платящего пользователя.\n",
    "#    ARPU = Выручка с когорты за всё время / количество пользователей в когорте.\n",
    "#    ARPPU = Выручка приложения / количество уникальных платящих пользователей.\n",
    "\n",
    "# 7. Виральность - характеризует степень распространения игры, а также готовность и желание пользователей привлекать своих знакомых и друзей\n",
    "#    для совместных развлечений.\n",
    "\n",
    "# Часть показателей могла ухудшиться, потому как пользователи могли разочароваться или обидеться за полученный регресс.\n",
    "# Либо наоборот, пользователи стали активнее играть и покупать, чтобы нивелировать откат. \n",
    "# Также при сравнении с другими месяцами и группами следует учесть сезонность (применит коэффициент, например, чтобы стандартные\n",
    "# сезонные изменения не влияли на результат сравнения), ведь показатели не однородны в течение года и меняются \n",
    "# по ественственным причинам  при прочих равных условиях.\n"
   ]
  }
 ],
 "metadata": {
  "kernelspec": {
   "display_name": "Python 3",
   "language": "python",
   "name": "python3"
  },
  "language_info": {
   "codemirror_mode": {
    "name": "ipython",
    "version": 3
   },
   "file_extension": ".py",
   "mimetype": "text/x-python",
   "name": "python",
   "nbconvert_exporter": "python",
   "pygments_lexer": "ipython3",
   "version": "3.7.3"
  }
 },
 "nbformat": 4,
 "nbformat_minor": 4
}
